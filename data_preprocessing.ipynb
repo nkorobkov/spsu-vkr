{
 "cells": [
  {
   "cell_type": "code",
   "execution_count": 84,
   "metadata": {},
   "outputs": [],
   "source": [
    "import json\n",
    "import requests\n",
    "import csv\n",
    "import random"
   ]
  },
  {
   "cell_type": "code",
   "execution_count": 79,
   "metadata": {},
   "outputs": [],
   "source": [
    "TR_URL = 'https://translate.yandex.net/api/v1.5/tr.json/translate'\n",
    "with open('data/yandex_translate_secret.txt') as f:\n",
    "    TR_KEY = f.readline()\n",
    "SECOND_LANG_CODE = 'sv'"
   ]
  },
  {
   "cell_type": "code",
   "execution_count": 69,
   "metadata": {},
   "outputs": [],
   "source": [
    "def translator(text, target_l):\n",
    "    payload = GOOGLE_PARAMS\n",
    "    payload['text']=text\n",
    "    payload['key'] = TR_KEY\n",
    "    payload['lang'] = target_l\n",
    "    r = requests.get(TR_URL, params=payload)\n",
    "    return json.loads(r.text)['text'][0]"
   ]
  },
  {
   "cell_type": "code",
   "execution_count": 82,
   "metadata": {},
   "outputs": [],
   "source": [
    "# data can be found here\n",
    "# https://github.com/snipsco/nlu-benchmark/blob/master/2016-12-built-in-intents/benchmark_data.json\n",
    "with open('data/benchmark_data.json') as f:\n",
    "    d = json.load(f)    "
   ]
  },
  {
   "cell_type": "code",
   "execution_count": 77,
   "metadata": {},
   "outputs": [],
   "source": [
    "data = []\n",
    "for domain in d['domains']:\n",
    "    domain_name = domain['name']\n",
    "    for intent in domain['intents']:\n",
    "        intent_name = intent['name']\n",
    "        for query in intent['queries']:\n",
    "            text = query['text']\n",
    "            translated_text = translator(text, SECOND_LANG_CODE)\n",
    "            data.append((domain_name, intent_name, text, translated_text))\n",
    "            \n",
    "        "
   ]
  },
  {
   "cell_type": "code",
   "execution_count": 90,
   "metadata": {},
   "outputs": [],
   "source": [
    "random.shuffle(data)\n",
    "\n",
    "writer_train = csv.writer(open(\"data/intents_train.csv\", 'w'))\n",
    "writer_test = csv.writer(open(\"data/intents_test.csv\", 'w'))\n",
    "for row in data[:250]:\n",
    "    writer_train.writerow(row)\n",
    "for row in data[250:]:\n",
    "    writer_test.writerow(row)"
   ]
  }
 ],
 "metadata": {
  "kernelspec": {
   "display_name": "Python 3",
   "language": "python",
   "name": "python3"
  },
  "language_info": {
   "codemirror_mode": {
    "name": "ipython",
    "version": 3
   },
   "file_extension": ".py",
   "mimetype": "text/x-python",
   "name": "python",
   "nbconvert_exporter": "python",
   "pygments_lexer": "ipython3",
   "version": "3.7.1"
  }
 },
 "nbformat": 4,
 "nbformat_minor": 2
}
