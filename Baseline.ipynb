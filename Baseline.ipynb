{
 "cells": [
  {
   "cell_type": "code",
   "execution_count": 6,
   "metadata": {},
   "outputs": [],
   "source": [
    "import json\n",
    "import csv\n",
    "import random\n",
    "import torch\n",
    "import torch.nn as nn\n",
    "import numpy as np\n",
    "# use this library https://github.com/facebookresearch/fastText/tree/master/python\n",
    "import fastText\n"
   ]
  },
  {
   "cell_type": "code",
   "execution_count": 194,
   "metadata": {
    "scrolled": false
   },
   "outputs": [],
   "source": [
    "trainset = []\n",
    "with open('data/intents_train.csv', 'r') as f:\n",
    "    reader = csv.reader(x.replace('\\0', '') for x in f)\n",
    "    for line in reader:\n",
    "        trainset.append(line)\n",
    "trainset = np.array(trainset)\n",
    "\n",
    "testset = []\n",
    "with open('data/intents_test.csv', 'r') as f:\n",
    "    reader = csv.reader(x.replace('\\0', '') for x in f)\n",
    "    for line in reader:\n",
    "        testset.append(line)\n",
    "testset = np.array(testset)\n",
    "\n",
    "labels = list(set(trainset[:,1]))\n",
    "lab2id = {}\n",
    "id2lab = {}\n",
    "\n",
    "for i in range(len(labels)):\n",
    "    lab2id[labels[i]] = i\n",
    "    id2lab[i] = labels[i]"
   ]
  },
  {
   "cell_type": "code",
   "execution_count": 3,
   "metadata": {},
   "outputs": [],
   "source": [
    "sv_model = fastText.load_model('data/cc.sv.300.bin')\n",
    "en_model = fastText.load_model('data/cc.en.300.bin')"
   ]
  },
  {
   "cell_type": "code",
   "execution_count": 51,
   "metadata": {},
   "outputs": [],
   "source": [
    "def sentence_vec(sentence, model = en_model):\n",
    "    result = np.zeros((1, 300))\n",
    "    sentence = sentence.strip()\n",
    "    for word in sentence:\n",
    "        result += model.get_word_vector(word.lower())\n",
    "    return result/len(sentence)\n",
    "    "
   ]
  },
  {
   "cell_type": "code",
   "execution_count": 104,
   "metadata": {},
   "outputs": [],
   "source": [
    "def prepare_pair(label, sentence):\n",
    "    return (lab2id[label]),(sentence_vec(sentence))\n",
    "\n",
    "def prepare_pairs(data):\n",
    "    \n",
    "    labels = []\n",
    "    vectors = []\n",
    "    for sample in data:\n",
    "        l, v = prepare_pair(sample[1], sample[3])\n",
    "        labels.append(l)\n",
    "        vectors.append(v)\n",
    "        \n",
    "    return labels, vectors"
   ]
  },
  {
   "cell_type": "code",
   "execution_count": 238,
   "metadata": {},
   "outputs": [],
   "source": [
    "class Baseline(nn.Module):\n",
    "    def __init__(self, in_size = 300, out_size = 10):\n",
    "        super(Baseline, self).__init__()\n",
    "\n",
    "        self.W = nn.Linear(300, 10)\n",
    "        self.out = nn.LogSoftmax(2)\n",
    "        \n",
    "    def forward(self, x):\n",
    "        x = self.W(x)\n",
    "        return self.out(x)\n",
    "\n",
    "net = Baseline()"
   ]
  },
  {
   "cell_type": "code",
   "execution_count": 239,
   "metadata": {},
   "outputs": [],
   "source": [
    "optimizer = torch.optim.Adam(net.parameters())\n",
    "criterion = torch.nn.NLLLoss()\n"
   ]
  },
  {
   "cell_type": "code",
   "execution_count": 240,
   "metadata": {},
   "outputs": [],
   "source": [
    "def train(model, criterion, optimizer, labels, vectors):\n",
    "    model.zero_grad()\n",
    "    loss = 0\n",
    "    \n",
    "    vectors = torch.tensor(vectors).float()\n",
    "    labels = torch.tensor(labels)\n",
    "    \n",
    "    model_out = model.forward(vectors)\n",
    "    loss += criterion(model_out[:,0], labels)\n",
    "    \n",
    "    loss.backward()\n",
    "    optimizer.step()\n",
    "    \n",
    "    return loss.item()/len(labels)"
   ]
  },
  {
   "cell_type": "code",
   "execution_count": 241,
   "metadata": {},
   "outputs": [],
   "source": [
    "def eval(model, labels, vectors):\n",
    "    with torch.no_grad():\n",
    "        vectors = torch.tensor(vectors).float()\n",
    "        labels = torch.tensor(labels)\n",
    "    \n",
    "        model_out = model.forward(vectors)\n",
    "        loss = criterion(model_out[:,0], labels)\n",
    "        return loss.item()\n",
    "    \n",
    "        "
   ]
  },
  {
   "cell_type": "code",
   "execution_count": 242,
   "metadata": {},
   "outputs": [
    {
     "name": "stdout",
     "output_type": "stream",
     "text": [
      "#   0, train loss: 0.007361, eval loss: 2.287059\n",
      "# 100, train loss: 0.006461, eval loss: 2.071101\n",
      "# 200, train loss: 0.005928, eval loss: 1.929068\n",
      "# 300, train loss: 0.005478, eval loss: 1.812580\n",
      "# 400, train loss: 0.005100, eval loss: 1.717840\n",
      "# 500, train loss: 0.004780, eval loss: 1.640214\n",
      "# 600, train loss: 0.004507, eval loss: 1.575833\n",
      "# 700, train loss: 0.004270, eval loss: 1.521726\n",
      "# 800, train loss: 0.004063, eval loss: 1.475655\n",
      "# 900, train loss: 0.003880, eval loss: 1.435946\n",
      "#1000, train loss: 0.003716, eval loss: 1.401346\n",
      "#1100, train loss: 0.003569, eval loss: 1.370913\n",
      "#1200, train loss: 0.003436, eval loss: 1.343926\n",
      "#1300, train loss: 0.003314, eval loss: 1.319831\n",
      "#1400, train loss: 0.003203, eval loss: 1.298197\n",
      "#1500, train loss: 0.003101, eval loss: 1.278684\n",
      "#1600, train loss: 0.003006, eval loss: 1.261021\n",
      "#1700, train loss: 0.002918, eval loss: 1.244990\n",
      "#1800, train loss: 0.002836, eval loss: 1.230413\n",
      "#1900, train loss: 0.002759, eval loss: 1.217140\n",
      "#2000, train loss: 0.002687, eval loss: 1.205049\n",
      "#2100, train loss: 0.002619, eval loss: 1.194036\n",
      "#2200, train loss: 0.002555, eval loss: 1.184013\n",
      "#2300, train loss: 0.002494, eval loss: 1.174907\n",
      "#2400, train loss: 0.002436, eval loss: 1.166651\n",
      "#2500, train loss: 0.002381, eval loss: 1.159188\n",
      "#2600, train loss: 0.002329, eval loss: 1.152469\n",
      "#2700, train loss: 0.002279, eval loss: 1.146450\n",
      "#2800, train loss: 0.002231, eval loss: 1.141091\n",
      "#2900, train loss: 0.002185, eval loss: 1.136355\n",
      "#3000, train loss: 0.002141, eval loss: 1.132210\n",
      "#3100, train loss: 0.002098, eval loss: 1.128627\n",
      "#3200, train loss: 0.002057, eval loss: 1.125577\n",
      "#3300, train loss: 0.002018, eval loss: 1.123037\n",
      "#3400, train loss: 0.001980, eval loss: 1.120983\n"
     ]
    }
   ],
   "source": [
    "labs, vecs = prepare_pairs(trainset)\n",
    "labst, vecst = prepare_pairs(testset)\n",
    "for i in range(3500):f\n",
    "    loss = train(net, criterion, optimizer, labs, vecs)\n",
    "    if not i% 100:\n",
    "        eval_loss = eval(net, labst, vecst)\n",
    "        print('#{:4d}, train loss: {:3f}, eval loss: {:3f}'.format(i, loss, eval_loss))"
   ]
  },
  {
   "cell_type": "code",
   "execution_count": 243,
   "metadata": {},
   "outputs": [],
   "source": [
    "def eval_visual(model, labels, vectors):\n",
    "    with torch.no_grad():\n",
    "        vectors = torch.tensor(vectors).float()\n",
    "        labels = torch.tensor(labels)\n",
    "    \n",
    "        model_out = model.forward(vectors)\n",
    "        right = 0\n",
    "        wrong = 0\n",
    "        for i  in range(len(model_out)):\n",
    "            k, v = model_out[i].topk(1)\n",
    "            predicted, true = v.item(), labels[i].item()\n",
    "            if predicted == true:\n",
    "                right +=1\n",
    "            else:\n",
    "                print(id2lab[predicted], id2lab[true])\n",
    "                wrong +=1\n",
    "                \n",
    "        print('{} out of {}'.format(right, right+wrong))"
   ]
  },
  {
   "cell_type": "code",
   "execution_count": 244,
   "metadata": {},
   "outputs": [
    {
     "name": "stdout",
     "output_type": "stream",
     "text": [
      "SearchPlace RequestRide\n",
      "BookRestaurant GetWeather\n",
      "GetPlaceDetails GetWeather\n",
      "BookRestaurant GetTrafficInformation\n",
      "SearchPlace GetPlaceDetails\n",
      "GetPlaceDetails GetTrafficInformation\n",
      "GetTrafficInformation GetDirections\n",
      "GetPlaceDetails GetWeather\n",
      "GetDirections GetPlaceDetails\n",
      "GetTrafficInformation SearchPlace\n",
      "SearchPlace ShareETA\n",
      "SearchPlace GetPlaceDetails\n",
      "GetPlaceDetails GetTrafficInformation\n",
      "GetTrafficInformation GetWeather\n",
      "GetPlaceDetails ComparePlaces\n",
      "SearchPlace BookRestaurant\n",
      "BookRestaurant GetTrafficInformation\n",
      "SearchPlace RequestRide\n",
      "GetWeather GetPlaceDetails\n",
      "GetDirections GetPlaceDetails\n",
      "GetWeather GetPlaceDetails\n",
      "GetPlaceDetails GetWeather\n",
      "GetTrafficInformation GetWeather\n",
      "BookRestaurant GetWeather\n",
      "BookRestaurant GetTrafficInformation\n",
      "53 out of 78\n"
     ]
    }
   ],
   "source": [
    "eval_visual(net, labst, vecst)"
   ]
  },
  {
   "cell_type": "code",
   "execution_count": null,
   "metadata": {},
   "outputs": [],
   "source": []
  }
 ],
 "metadata": {
  "kernelspec": {
   "display_name": "Python 3",
   "language": "python",
   "name": "python3"
  },
  "language_info": {
   "codemirror_mode": {
    "name": "ipython",
    "version": 3
   },
   "file_extension": ".py",
   "mimetype": "text/x-python",
   "name": "python",
   "nbconvert_exporter": "python",
   "pygments_lexer": "ipython3",
   "version": "3.7.1"
  }
 },
 "nbformat": 4,
 "nbformat_minor": 2
}
