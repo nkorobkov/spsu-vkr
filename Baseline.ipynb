{
 "cells": [
  {
   "cell_type": "code",
   "execution_count": 1,
   "metadata": {},
   "outputs": [],
   "source": [
    "import json\n",
    "import csv\n",
    "import random\n",
    "import torch\n",
    "import torch.nn as nn\n",
    "import numpy as np\n",
    "# use this library https://github.com/facebookresearch/fastText/tree/master/python\n",
    "import fastText\n"
   ]
  },
  {
   "cell_type": "code",
   "execution_count": 2,
   "metadata": {
    "scrolled": false
   },
   "outputs": [],
   "source": [
    "trainset = []\n",
    "with open('data/intents_train.csv', 'r') as f:\n",
    "    reader = csv.reader(x.replace('\\0', '') for x in f)\n",
    "    for line in reader:\n",
    "        trainset.append(line)\n",
    "trainset = np.array(trainset)\n",
    "\n",
    "testset = []\n",
    "with open('data/intents_test.csv', 'r') as f:\n",
    "    reader = csv.reader(x.replace('\\0', '') for x in f)\n",
    "    for line in reader:\n",
    "        testset.append(line)\n",
    "testset = np.array(testset)\n",
    "\n",
    "labels = list(set(trainset[:,1]))\n",
    "lab2id = {}\n",
    "id2lab = {}\n",
    "\n",
    "for i in range(len(labels)):\n",
    "    lab2id[labels[i]] = i\n",
    "    id2lab[i] = labels[i]"
   ]
  },
  {
   "cell_type": "code",
   "execution_count": 3,
   "metadata": {},
   "outputs": [],
   "source": [
    "sv_model = fastText.load_model('data/cc.sv.300.bin')\n",
    "en_model = fastText.load_model('data/cc.en.300.bin')"
   ]
  },
  {
   "cell_type": "code",
   "execution_count": 51,
   "metadata": {},
   "outputs": [],
   "source": [
    "def sentence_vec(sentence, model):\n",
    "    result = np.zeros((1, 300))\n",
    "    sentence = sentence.strip()\n",
    "    for word in sentence:\n",
    "        result += model.get_word_vector(word.lower())\n",
    "    return result/len(sentence)\n",
    "    "
   ]
  },
  {
   "cell_type": "code",
   "execution_count": 284,
   "metadata": {},
   "outputs": [],
   "source": [
    "def prepare_pair(label, sentence, model):\n",
    "    return (lab2id[label]),(sentence_vec(sentence, model))\n",
    "\n",
    "def prepare_pairs(data, lang = 'en'):\n",
    "    if lang == 'en':\n",
    "        model = en_model\n",
    "        slab = 2\n",
    "    elif lang == 'sv':\n",
    "        model = sv_model\n",
    "        slab = 3\n",
    "    else:\n",
    "        raise RuntimeError('lang is not supported')\n",
    "    labels = []\n",
    "    vectors = []\n",
    "    for sample in data:\n",
    "        l, v = prepare_pair(sample[1], sample[slab], model)\n",
    "        labels.append(l)\n",
    "        vectors.append(v)\n",
    "        \n",
    "    return labels, vectors"
   ]
  },
  {
   "cell_type": "code",
   "execution_count": 294,
   "metadata": {},
   "outputs": [],
   "source": [
    "class Baseline(nn.Module):\n",
    "    def __init__(self, in_size = 300, out_size = 10):\n",
    "        super(Baseline, self).__init__()\n",
    "\n",
    "        self.W = nn.Linear(300, 10)\n",
    "        self.out = nn.LogSoftmax(2)\n",
    "        \n",
    "    def forward(self, x):\n",
    "        x = self.W(x)\n",
    "        return self.out(x)\n",
    "\n"
   ]
  },
  {
   "cell_type": "code",
   "execution_count": 296,
   "metadata": {},
   "outputs": [],
   "source": [
    "def train(model, criterion, optimizer, labels, vectors):\n",
    "    model.zero_grad()\n",
    "    loss = 0\n",
    "    \n",
    "    vectors = torch.tensor(vectors).float()\n",
    "    labels = torch.tensor(labels)\n",
    "    \n",
    "    model_out = model.forward(vectors)\n",
    "    loss += criterion(model_out[:,0], labels)\n",
    "    \n",
    "    loss.backward()\n",
    "    optimizer.step()\n",
    "    \n",
    "    return loss.item()/len(labels)"
   ]
  },
  {
   "cell_type": "code",
   "execution_count": 300,
   "metadata": {},
   "outputs": [],
   "source": [
    "def eval(model, labels, vectors):\n",
    "    with torch.no_grad():\n",
    "        vectors = torch.tensor(vectors).float()\n",
    "        labels = torch.tensor(labels)\n",
    "    \n",
    "        model_out = model.forward(vectors)\n",
    "        right = 0\n",
    "        \n",
    "        for i  in range(len(model_out)):\n",
    "            k, v = model_out[i].topk(1)\n",
    "            predicted, true = v.item(), labels[i].item()\n",
    "            if predicted == true:\n",
    "                right +=1\n",
    "\n",
    "                \n",
    "        loss = criterion(model_out[:,0], labels)\n",
    "        return loss.item(), right/len(model_out)\n",
    "    \n",
    "        "
   ]
  },
  {
   "cell_type": "code",
   "execution_count": 310,
   "metadata": {},
   "outputs": [
    {
     "name": "stdout",
     "output_type": "stream",
     "text": [
      "#   0, train loss: 0.007340, eval loss: 2.291807, acc = 0.038462\n",
      "# 100, train loss: 0.006661, eval loss: 2.135674, acc = 0.153846\n",
      "# 200, train loss: 0.006281, eval loss: 2.040863, acc = 0.179487\n",
      "# 300, train loss: 0.005930, eval loss: 1.954765, acc = 0.243590\n",
      "# 400, train loss: 0.005614, eval loss: 1.878127, acc = 0.294872\n",
      "# 500, train loss: 0.005329, eval loss: 1.810425, acc = 0.358974\n",
      "# 600, train loss: 0.005074, eval loss: 1.750744, acc = 0.384615\n",
      "# 700, train loss: 0.004845, eval loss: 1.698082, acc = 0.474359\n",
      "# 800, train loss: 0.004638, eval loss: 1.651480, acc = 0.500000\n",
      "# 900, train loss: 0.004451, eval loss: 1.610078, acc = 0.512821\n",
      "#1000, train loss: 0.004281, eval loss: 1.573125, acc = 0.525641\n",
      "#1100, train loss: 0.004126, eval loss: 1.539982, acc = 0.564103\n",
      "#1200, train loss: 0.003984, eval loss: 1.510109, acc = 0.576923\n",
      "#1300, train loss: 0.003854, eval loss: 1.483057, acc = 0.589744\n",
      "#1400, train loss: 0.003734, eval loss: 1.458445, acc = 0.602564\n",
      "#1500, train loss: 0.003623, eval loss: 1.435956, acc = 0.615385\n",
      "#1600, train loss: 0.003520, eval loss: 1.415319, acc = 0.602564\n",
      "#1700, train loss: 0.003424, eval loss: 1.396302, acc = 0.615385\n",
      "#1800, train loss: 0.003334, eval loss: 1.378709, acc = 0.615385\n",
      "#1900, train loss: 0.003251, eval loss: 1.362367, acc = 0.615385\n",
      "#2000, train loss: 0.003172, eval loss: 1.347135, acc = 0.628205\n",
      "#2100, train loss: 0.003098, eval loss: 1.332886, acc = 0.628205\n",
      "#2200, train loss: 0.003027, eval loss: 1.319516, acc = 0.628205\n",
      "#2300, train loss: 0.002961, eval loss: 1.306935, acc = 0.628205\n",
      "#2400, train loss: 0.002898, eval loss: 1.295067, acc = 0.628205\n",
      "#2500, train loss: 0.002838, eval loss: 1.283849, acc = 0.628205\n",
      "#2600, train loss: 0.002781, eval loss: 1.273224, acc = 0.628205\n",
      "#2700, train loss: 0.002727, eval loss: 1.263147, acc = 0.628205\n",
      "#2800, train loss: 0.002675, eval loss: 1.253579, acc = 0.628205\n",
      "#2900, train loss: 0.002625, eval loss: 1.244486, acc = 0.628205\n",
      "#3000, train loss: 0.002577, eval loss: 1.235837, acc = 0.628205\n",
      "#3100, train loss: 0.002531, eval loss: 1.227606, acc = 0.628205\n",
      "#3200, train loss: 0.002487, eval loss: 1.219772, acc = 0.628205\n",
      "#3300, train loss: 0.002445, eval loss: 1.212315, acc = 0.628205\n",
      "#3400, train loss: 0.002403, eval loss: 1.205218, acc = 0.641026\n",
      "#3500, train loss: 0.002364, eval loss: 1.198466, acc = 0.641026\n",
      "#3600, train loss: 0.002325, eval loss: 1.192046, acc = 0.628205\n",
      "#3700, train loss: 0.002288, eval loss: 1.185946, acc = 0.641026\n",
      "#3800, train loss: 0.002252, eval loss: 1.180156, acc = 0.641026\n",
      "#3900, train loss: 0.002217, eval loss: 1.174668, acc = 0.628205\n"
     ]
    }
   ],
   "source": [
    "net = Baseline()\n",
    "optimizer = torch.optim.Adam(net.parameters())\n",
    "criterion = torch.nn.NLLLoss()\n",
    "labs, vecs = prepare_pairs(trainset, lang = 'sv')\n",
    "labst, vecst = prepare_pairs(testset, lang = 'sv')\n",
    "\n",
    "\n",
    "for i in range(4001):\n",
    "    loss = train(net, criterion, optimizer, labs, vecs)\n",
    "    if not i% 100:\n",
    "        eval_loss, acc = eval(net, labst, vecst)\n",
    "        print('#{:4d}, train loss: {:3f}, eval loss: {:3f}, acc = {:3f}'.format(i, loss, eval_loss, acc))\n",
    "        \n",
    "    "
   ]
  },
  {
   "cell_type": "code",
   "execution_count": 302,
   "metadata": {},
   "outputs": [],
   "source": [
    "def eval_visual(model, labels, vectors):\n",
    "    with torch.no_grad():\n",
    "        vectors = torch.tensor(vectors).float()\n",
    "        labels = torch.tensor(labels)\n",
    "    \n",
    "        model_out = model.forward(vectors)\n",
    "        right = 0\n",
    "        wrong = 0\n",
    "        for i  in range(len(model_out)):\n",
    "            k, v = model_out[i].topk(1)\n",
    "            predicted, true = v.item(), labels[i].item()\n",
    "            if predicted == true:\n",
    "                right +=1\n",
    "            else:\n",
    "                print(id2lab[predicted], id2lab[true])\n",
    "                wrong +=1\n",
    "                \n",
    "        print('{} out of {} = {}'.format(right, right+wrong, right/(right+wrong)))"
   ]
  },
  {
   "cell_type": "code",
   "execution_count": 269,
   "metadata": {},
   "outputs": [
    {
     "name": "stdout",
     "output_type": "stream",
     "text": [
      "ComparePlaces GetPlaceDetails\n",
      "SearchPlace RequestRide\n",
      "BookRestaurant GetWeather\n",
      "GetPlaceDetails GetWeather\n",
      "RequestRide GetTrafficInformation\n",
      "SearchPlace GetPlaceDetails\n",
      "GetTrafficInformation GetDirections\n",
      "GetPlaceDetails GetWeather\n",
      "GetDirections GetPlaceDetails\n",
      "GetWeather GetPlaceDetails\n",
      "GetDirections SearchPlace\n",
      "SearchPlace ShareETA\n",
      "SearchPlace GetPlaceDetails\n",
      "GetPlaceDetails GetTrafficInformation\n",
      "GetTrafficInformation GetWeather\n",
      "GetWeather ShareCurrentLocation\n",
      "GetPlaceDetails ComparePlaces\n",
      "SearchPlace BookRestaurant\n",
      "GetPlaceDetails GetTrafficInformation\n",
      "SearchPlace RequestRide\n",
      "ComparePlaces GetPlaceDetails\n",
      "GetWeather GetPlaceDetails\n",
      "GetDirections GetPlaceDetails\n",
      "GetWeather GetPlaceDetails\n",
      "GetPlaceDetails GetWeather\n",
      "RequestRide GetWeather\n",
      "BookRestaurant GetWeather\n",
      "BookRestaurant GetTrafficInformation\n",
      "50 out of 78 = 0.6410256410256411\n"
     ]
    }
   ],
   "source": [
    "eval_visual(net, labst, vecst)"
   ]
  },
  {
   "cell_type": "code",
   "execution_count": 4,
   "metadata": {},
   "outputs": [
    {
     "data": {
      "text/plain": [
       "array([['reservation', 'BookRestaurant',\n",
       "        'Book a table for four people at Tapestry for 9pm tonight',\n",
       "        'Boka ett bord för fyra personer på Väv till klockan 9 på kvällen ikväll'],\n",
       "       ['reservation', 'BookRestaurant',\n",
       "        'Book a table for 8 at Tavern on the Green for 8 pm',\n",
       "        'Boka ett bord för 8 på Tavern on the Green för 8 pm'],\n",
       "       ['weather', 'GetWeather',\n",
       "        \"What's the weather like at Jo's place right now?\",\n",
       "        'Vad är det för väder på Jo: s plats just nu?'],\n",
       "       ...,\n",
       "       ['places', 'ShareCurrentLocation',\n",
       "        'Share my location with Robert for the next 10 min',\n",
       "        'Dela min plats med Robert för nästa 10 min'],\n",
       "       ['reservation', 'BookRestaurant',\n",
       "        \"Please book a table at Delmonico's this evening for 3 at 8pm\",\n",
       "        \"Boka gärna bord på Delmonico ' s denna kväll för 3 vid 8pm\"],\n",
       "       ['places', 'GetPlaceDetails',\n",
       "        \"Show me the Butcher's Daughter's menu\",\n",
       "        \"Visa mig Butcher 's Daughter' s meny\"]], dtype='<U95')"
      ]
     },
     "execution_count": 4,
     "metadata": {},
     "output_type": "execute_result"
    }
   ],
   "source": [
    "trainset"
   ]
  },
  {
   "cell_type": "code",
   "execution_count": null,
   "metadata": {},
   "outputs": [],
   "source": []
  }
 ],
 "metadata": {
  "kernelspec": {
   "display_name": "Python 3",
   "language": "python",
   "name": "python3"
  },
  "language_info": {
   "codemirror_mode": {
    "name": "ipython",
    "version": 3
   },
   "file_extension": ".py",
   "mimetype": "text/x-python",
   "name": "python",
   "nbconvert_exporter": "python",
   "pygments_lexer": "ipython3",
   "version": "3.7.1"
  }
 },
 "nbformat": 4,
 "nbformat_minor": 2
}
