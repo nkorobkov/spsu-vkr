{
 "cells": [
  {
   "cell_type": "code",
   "execution_count": 1,
   "metadata": {},
   "outputs": [],
   "source": [
    "import json\n",
    "import csv\n",
    "import random\n",
    "import torch\n",
    "import torch.nn as nn\n",
    "import numpy as np\n",
    "# use this library https://github.com/facebookresearch/fastText/tree/master/python\n",
    "import fastText\n",
    "import time"
   ]
  },
  {
   "cell_type": "code",
   "execution_count": 2,
   "metadata": {},
   "outputs": [],
   "source": [
    "trainset = []\n",
    "with open('data/intents_train.csv', 'r') as f:\n",
    "    reader = csv.reader(x.replace('\\0', '') for x in f)\n",
    "    for line in reader:\n",
    "        trainset.append(line)\n",
    "trainset = np.array(trainset)\n",
    "\n",
    "testset = []\n",
    "with open('data/intents_test.csv', 'r') as f:\n",
    "    reader = csv.reader(x.replace('\\0', '') for x in f)\n",
    "    for line in reader:\n",
    "        testset.append(line)\n",
    "testset = np.array(testset)\n",
    "\n",
    "labels = list(set(trainset[:,1]))\n",
    "lab2id = {}\n",
    "id2lab = {}\n",
    "\n",
    "for i in range(len(labels)):\n",
    "    lab2id[labels[i]] = i\n",
    "    id2lab[i] = labels[i]"
   ]
  },
  {
   "cell_type": "code",
   "execution_count": 3,
   "metadata": {},
   "outputs": [],
   "source": [
    "sv_model = fastText.load_model('data/cc.sv.300.bin')\n",
    "en_model = fastText.load_model('data/cc.en.300.bin')"
   ]
  },
  {
   "cell_type": "code",
   "execution_count": 4,
   "metadata": {},
   "outputs": [],
   "source": [
    "SOS_VEC = np.zeros((1, 300))\n",
    "EOS_VEC = np.zeros((1, 300))\n",
    "SOS_VEC[0,0] = 1\n",
    "EOS_VEC[0,1] = 1\n"
   ]
  },
  {
   "cell_type": "code",
   "execution_count": 5,
   "metadata": {},
   "outputs": [],
   "source": [
    "def sentence2vecs(sentence, model):\n",
    "    result = [SOS_VEC]\n",
    "    sentence = sentence.strip()\n",
    "    for word in sentence:\n",
    "        result.append([model.get_word_vector(word.lower())])\n",
    "    result.append(EOS_VEC)\n",
    "    return result\n",
    "    "
   ]
  },
  {
   "cell_type": "code",
   "execution_count": 6,
   "metadata": {},
   "outputs": [],
   "source": [
    "def prepare_pair(label, sentence, model):\n",
    "    return (lab2id[label]),(sentence2vecs(sentence, model))\n",
    "\n",
    "def prepare_pairs(data, lang = 'en'):\n",
    "    if lang == 'en':\n",
    "        model = en_model\n",
    "        slab = 2\n",
    "    elif lang == 'sv':\n",
    "        model = sv_model\n",
    "        slab = 3\n",
    "    else:\n",
    "        raise RuntimeError('lang is not supported')\n",
    "    labels = []\n",
    "    vectors = []\n",
    "    for sample in data:\n",
    "        l, v = prepare_pair(sample[1], sample[slab], model)\n",
    "        labels.append(l)\n",
    "        vectors.append(v)\n",
    "        \n",
    "    return labels, vectors"
   ]
  },
  {
   "cell_type": "code",
   "execution_count": 7,
   "metadata": {},
   "outputs": [],
   "source": [
    "p = prepare_pairs(trainset, 'en')"
   ]
  },
  {
   "cell_type": "code",
   "execution_count": 15,
   "metadata": {},
   "outputs": [],
   "source": [
    "class EncoderRNN(nn.Module):\n",
    "    def __init__(self, hidden_size=300):\n",
    "        super(EncoderRNN, self).__init__()\n",
    "        self.hidden_size = hidden_size\n",
    "\n",
    "        self.gru = nn.GRU(hidden_size, hidden_size)\n",
    "\n",
    "    def forward(self, input, hidden):\n",
    "        output, hidden = self.gru(input, hidden)\n",
    "        return output, hidden\n",
    "\n",
    "    def initHidden(self):\n",
    "        return torch.zeros(1, 1, self.hidden_size)\n",
    "    \n",
    "en_enc = EncoderRNN()"
   ]
  },
  {
   "cell_type": "code",
   "execution_count": 9,
   "metadata": {},
   "outputs": [],
   "source": [
    "def comp_sent_vec(sentence_as_vecs, enc):\n",
    "    hidden = enc.initHidden()\n",
    "    for v in sentence_as_vecs:\n",
    "        input = torch.tensor([v]).float()\n",
    "        out, hidden = enc.forward(input, hidden)\n",
    "    return out\n",
    "\n",
    "    "
   ]
  },
  {
   "cell_type": "code",
   "execution_count": 10,
   "metadata": {},
   "outputs": [],
   "source": [
    "class Baseline(nn.Module):\n",
    "    def __init__(self, in_size = 300, out_size = 10):\n",
    "        super(Baseline, self).__init__()\n",
    "\n",
    "        self.W = nn.Linear(300, 10)\n",
    "        self.out = nn.LogSoftmax(2)\n",
    "        \n",
    "    def forward(self, x):\n",
    "        x = self.W(x)\n",
    "        return self.out(x)"
   ]
  },
  {
   "cell_type": "code",
   "execution_count": 11,
   "metadata": {},
   "outputs": [],
   "source": [
    "def train(model, criterion, en_optimizer,net_optimizer, labels, vectors, enc):\n",
    "    model.zero_grad()\n",
    "    loss = 0\n",
    "    \n",
    "    \n",
    "    vectors = torch.cat([comp_sent_vec(x,enc) for x in vectors], 0)\n",
    "    labels = torch.tensor(labels)\n",
    "\n",
    "    model_out = model.forward(vectors)\n",
    "    loss += criterion(model_out[:,0], labels)\n",
    "    \n",
    "    loss.backward()\n",
    "    en_optimizer.step()\n",
    "    net_optimizer.step()\n",
    "    \n",
    "    return loss.item()/len(labels)"
   ]
  },
  {
   "cell_type": "code",
   "execution_count": 12,
   "metadata": {},
   "outputs": [],
   "source": [
    "def evaluate(model, labels, vectors, enc):\n",
    "    with torch.no_grad():\n",
    "        vectors = torch.cat([comp_sent_vec(x,enc) for x in vectors], 0)\n",
    "        labels = torch.tensor(labels)\n",
    "    \n",
    "        model_out = model.forward(vectors)\n",
    "        right = 0\n",
    "        \n",
    "        for i  in range(len(model_out)):\n",
    "            k, v = model_out[i].topk(1)\n",
    "            predicted, true = v.item(), labels[i].item()\n",
    "            if predicted == true:\n",
    "                right +=1\n",
    "\n",
    "                \n",
    "        loss = criterion(model_out[:,0], labels)\n",
    "        return loss.item(), right/len(model_out)"
   ]
  },
  {
   "cell_type": "code",
   "execution_count": null,
   "metadata": {},
   "outputs": [
    {
     "name": "stdout",
     "output_type": "stream",
     "text": [
      "#  5,   121 sec. train loss: 0.0069893, eval loss: 2.3008, acc = 0.154, train_acc = 0.233\n",
      "# 10,   267 sec. train loss: 0.0065348, eval loss: 1.9657, acc = 0.333, train_acc = 0.319\n",
      "# 15,   440 sec. train loss: 0.0063668, eval loss: 1.8855, acc = 0.308, train_acc = 0.278\n",
      "# 20,   611 sec. train loss: 0.0058849, eval loss: 1.8239, acc = 0.333, train_acc = 0.332\n",
      "# 25,   779 sec. train loss: 0.0057159, eval loss: 1.8211, acc = 0.333, train_acc = 0.329\n",
      "# 30,   939 sec. train loss: 0.0057956, eval loss: 1.8072, acc = 0.321, train_acc = 0.335\n",
      "# 35,  1095 sec. train loss: 0.0055541, eval loss: 1.7670, acc = 0.359, train_acc = 0.374\n",
      "# 40,  1214 sec. train loss: 0.0055065, eval loss: 1.7517, acc = 0.333, train_acc = 0.342\n",
      "# 45,  1385 sec. train loss: 0.0053170, eval loss: 1.7630, acc = 0.308, train_acc = 0.409\n",
      "# 50,  1483 sec. train loss: 0.0054010, eval loss: 1.9039, acc = 0.346, train_acc = 0.387\n",
      "# 55,  1612 sec. train loss: 0.0051049, eval loss: 1.8487, acc = 0.359, train_acc = 0.409\n",
      "# 60,  1709 sec. train loss: 0.0049147, eval loss: 1.7688, acc = 0.346, train_acc = 0.425\n",
      "# 65,  8095 sec. train loss: 0.0048900, eval loss: 1.7142, acc = 0.397, train_acc = 0.466\n",
      "# 70,  8198 sec. train loss: 0.0046155, eval loss: 1.7316, acc = 0.359, train_acc = 0.479\n",
      "# 75,  8297 sec. train loss: 0.0043912, eval loss: 1.7945, acc = 0.359, train_acc = 0.479\n",
      "# 80,  8396 sec. train loss: 0.0044441, eval loss: 1.8660, acc = 0.372, train_acc = 0.495\n",
      "# 85,  8498 sec. train loss: 0.0043475, eval loss: 1.8316, acc = 0.359, train_acc = 0.502\n",
      "# 90,  8606 sec. train loss: 0.0040231, eval loss: 1.7333, acc = 0.397, train_acc = 0.546\n",
      "# 95,  8723 sec. train loss: 0.0037496, eval loss: 1.6724, acc = 0.449, train_acc = 0.597\n",
      "#100,  8836 sec. train loss: 0.0034535, eval loss: 1.6576, acc = 0.410, train_acc = 0.601\n",
      "#105,  8929 sec. train loss: 0.0031733, eval loss: 1.7205, acc = 0.372, train_acc = 0.658\n",
      "#110,  9024 sec. train loss: 0.0029817, eval loss: 1.7861, acc = 0.423, train_acc = 0.684\n",
      "#115,  9121 sec. train loss: 0.0028157, eval loss: 1.7977, acc = 0.372, train_acc = 0.700\n",
      "#120,  9229 sec. train loss: 0.0027424, eval loss: 1.7657, acc = 0.397, train_acc = 0.690\n",
      "#125,  9325 sec. train loss: 0.0025006, eval loss: 1.7150, acc = 0.436, train_acc = 0.732\n",
      "#130,  9425 sec. train loss: 0.0021138, eval loss: 1.7495, acc = 0.487, train_acc = 0.792\n",
      "#135,  9532 sec. train loss: 0.0018648, eval loss: 1.7991, acc = 0.449, train_acc = 0.805\n",
      "#140,  9632 sec. train loss: 0.0017192, eval loss: 1.8024, acc = 0.436, train_acc = 0.834\n",
      "#145,  9732 sec. train loss: 0.0017646, eval loss: 1.8502, acc = 0.397, train_acc = 0.802\n",
      "#150,  9829 sec. train loss: 0.0016541, eval loss: 1.8957, acc = 0.449, train_acc = 0.837\n",
      "#155,  9926 sec. train loss: 0.0013303, eval loss: 1.9041, acc = 0.436, train_acc = 0.885\n",
      "#160, 10023 sec. train loss: 0.0011170, eval loss: 1.9371, acc = 0.449, train_acc = 0.895\n",
      "#165, 10122 sec. train loss: 0.0010356, eval loss: 1.9589, acc = 0.513, train_acc = 0.920\n",
      "#170, 10220 sec. train loss: 0.0010094, eval loss: 2.0012, acc = 0.526, train_acc = 0.914\n",
      "#175, 10334 sec. train loss: 0.0008957, eval loss: 2.0315, acc = 0.513, train_acc = 0.949\n",
      "#180, 10458 sec. train loss: 0.0007646, eval loss: 2.0829, acc = 0.526, train_acc = 0.946\n",
      "#185, 10559 sec. train loss: 0.0006633, eval loss: 2.1273, acc = 0.526, train_acc = 0.939\n",
      "#190, 10665 sec. train loss: 0.0005907, eval loss: 2.1364, acc = 0.513, train_acc = 0.965\n",
      "#195, 10782 sec. train loss: 0.0005357, eval loss: 2.1412, acc = 0.513, train_acc = 0.958\n",
      "#200, 10894 sec. train loss: 0.0004879, eval loss: 2.1623, acc = 0.513, train_acc = 0.965\n",
      "#205, 10998 sec. train loss: 0.0004568, eval loss: 2.1879, acc = 0.500, train_acc = 0.968\n",
      "#210, 11109 sec. train loss: 0.0004268, eval loss: 2.2319, acc = 0.500, train_acc = 0.962\n",
      "#215, 11230 sec. train loss: 0.0003585, eval loss: 2.2521, acc = 0.513, train_acc = 0.974\n",
      "#220, 11337 sec. train loss: 0.0002914, eval loss: 2.2529, acc = 0.500, train_acc = 0.984\n",
      "#225, 11444 sec. train loss: 0.0002602, eval loss: 2.2506, acc = 0.513, train_acc = 0.987\n",
      "#230, 11544 sec. train loss: 0.0002297, eval loss: 2.3108, acc = 0.500, train_acc = 0.990\n",
      "#235, 11653 sec. train loss: 0.0002207, eval loss: 2.4030, acc = 0.526, train_acc = 0.990\n",
      "#240, 11748 sec. train loss: 0.0001858, eval loss: 2.4904, acc = 0.513, train_acc = 0.997\n",
      "#245, 11843 sec. train loss: 0.0001495, eval loss: 2.5112, acc = 0.474, train_acc = 1.000\n",
      "#250, 11938 sec. train loss: 0.0001190, eval loss: 2.4969, acc = 0.474, train_acc = 1.000\n",
      "#255, 12033 sec. train loss: 0.0001080, eval loss: 2.4808, acc = 0.474, train_acc = 1.000\n",
      "#260, 12129 sec. train loss: 0.0001013, eval loss: 2.5118, acc = 0.474, train_acc = 1.000\n",
      "#265, 12226 sec. train loss: 0.0000917, eval loss: 2.4626, acc = 0.500, train_acc = 1.000\n",
      "#270, 12322 sec. train loss: 0.0000838, eval loss: 2.4906, acc = 0.526, train_acc = 1.000\n",
      "#275, 12418 sec. train loss: 0.0000768, eval loss: 2.5071, acc = 0.526, train_acc = 1.000\n",
      "#280, 12513 sec. train loss: 0.0000780, eval loss: 2.5237, acc = 0.526, train_acc = 1.000\n",
      "#285, 12611 sec. train loss: 0.0000705, eval loss: 2.5300, acc = 0.526, train_acc = 0.997\n"
     ]
    }
   ],
   "source": [
    "net = Baseline()\n",
    "enc_optimizer = torch.optim.Adam(en_enc.parameters())\n",
    "net_optimizer = torch.optim.Adam(net.parameters())\n",
    "criterion = torch.nn.NLLLoss()\n",
    "labs, vecs = prepare_pairs(trainset, lang = 'en')\n",
    "labst, vecst = prepare_pairs(testset, lang = 'en')\n",
    "t =  time.time()\n",
    "\n",
    "for i in range(1,1000):\n",
    "    loss = train(net, criterion, enc_optimizer,net_optimizer, labs, vecs, en_enc)\n",
    "    if not i% 5:\n",
    "        eval_loss, acc = evaluate(net, labst, vecst, en_enc)\n",
    "        _, train_acc = evaluate(net, labs, vecs, en_enc)\n",
    "        print('#{:3d}, {:5d} sec. train loss: {:.7f}, eval loss: {:.4f}, acc = {:.3f}, train_acc = {:.3f}'.format(i, int(time.time() - t), loss, eval_loss, acc, train_acc))\n",
    "        \n",
    "    "
   ]
  },
  {
   "cell_type": "code",
   "execution_count": null,
   "metadata": {},
   "outputs": [],
   "source": []
  },
  {
   "cell_type": "code",
   "execution_count": 24,
   "metadata": {},
   "outputs": [
    {
     "data": {
      "text/plain": [
       "'  68'"
      ]
     },
     "execution_count": 24,
     "metadata": {},
     "output_type": "execute_result"
    }
   ],
   "source": [
    "'{:4d}'.format(int(time.time() - t))"
   ]
  },
  {
   "cell_type": "code",
   "execution_count": null,
   "metadata": {},
   "outputs": [],
   "source": []
  }
 ],
 "metadata": {
  "kernelspec": {
   "display_name": "Python 3",
   "language": "python",
   "name": "python3"
  },
  "language_info": {
   "codemirror_mode": {
    "name": "ipython",
    "version": 3
   },
   "file_extension": ".py",
   "mimetype": "text/x-python",
   "name": "python",
   "nbconvert_exporter": "python",
   "pygments_lexer": "ipython3",
   "version": "3.7.1"
  }
 },
 "nbformat": 4,
 "nbformat_minor": 2
}
