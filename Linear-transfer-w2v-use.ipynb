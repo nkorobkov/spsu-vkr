{
 "cells": [
  {
   "cell_type": "code",
   "execution_count": 1,
   "metadata": {},
   "outputs": [],
   "source": [
    "import json\n",
    "import csv\n",
    "import random\n",
    "import time\n",
    "import torch\n",
    "import torch.nn as nn\n",
    "import numpy as np"
   ]
  },
  {
   "cell_type": "code",
   "execution_count": 108,
   "metadata": {},
   "outputs": [
    {
     "data": {
      "text/plain": [
       "Baseline(\n",
       "  (W): Linear(in_features=512, out_features=7, bias=True)\n",
       "  (out): LogSoftmax()\n",
       ")"
      ]
     },
     "execution_count": 108,
     "metadata": {},
     "output_type": "execute_result"
    }
   ],
   "source": [
    "class Baseline(nn.Module):\n",
    "    def __init__(self, in_size = 512, out_size = 7):\n",
    "        super(Baseline, self).__init__()\n",
    "\n",
    "        self.W = nn.Linear(in_size, 7)\n",
    "        self.out = nn.LogSoftmax(2)\n",
    "        \n",
    "    def forward(self, x):\n",
    "        x = self.W(x)\n",
    "        return self.out(x)\n",
    "net = torch.load('models/USE-linear')\n",
    "net.eval()"
   ]
  },
  {
   "cell_type": "code",
   "execution_count": 115,
   "metadata": {},
   "outputs": [
    {
     "data": {
      "text/plain": [
       "((13784, 512), (13784, 301), (13784, 1025), 13784)"
      ]
     },
     "execution_count": 115,
     "metadata": {},
     "output_type": "execute_result"
    }
   ],
   "source": [
    "use_en_vecs_t = np.load('data/snips_processed/USE-en.npy')\n",
    "w2v_sv_vecs_t = np.load('data/snips_processed/W2V-sv.npy')\n",
    "elmo_sv_vecs_t = np.load('data/snips_processed/ELMO-sv.npy')\n",
    "\n",
    "labs = np.load('data/snips_processed/labs.npy')\n",
    "\n",
    "w2v_sv_vecs = np.squeeze(w2v_sv_vecs_t, axis=1)\n",
    "use_en_vecs = np.squeeze(use_en_vecs_t, axis=1)\n",
    "elmo_sv_vecs = np.squeeze(elmo_sv_vecs_t, axis=1)\n",
    "\n",
    "#appendd bias\n",
    "w2v_sv_vecs = np.hstack([w2v_sv_vecs, np.array([np.ones(len(w2v_sv_vecs))]).T])\n",
    "elmo_sv_vecs = np.hstack([elmo_sv_vecs, np.array([np.ones(len(elmo_sv_vecs))]).T])\n",
    "\n",
    "\n",
    "en_train = use_en_vecs[: 5000]\n",
    "en_val = use_en_vecs[5000:10000]\n",
    "en_test = use_en_vecs[10000:]\n",
    "\n",
    "sv_train = w2v_sv_vecs[: 5000]\n",
    "sv_val = w2v_sv_vecs[5000:10000]\n",
    "sv_test = w2v_sv_vecs[10000:]\n",
    "\n",
    "sv_train_e = elmo_sv_vecs[: 5000]\n",
    "sv_val_e = elmo_sv_vecs[5000:10000]\n",
    "sv_test_e = elmo_sv_vecs[10000:]\n",
    "\n",
    "labs_train = labs[: 5000]\n",
    "labs_val = labs[5000:10000]\n",
    "labs_test = labs[10000:]\n",
    "use_en_vecs.shape, w2v_sv_vecs.shape, elmo_sv_vecs.shape, len(labs)"
   ]
  },
  {
   "cell_type": "code",
   "execution_count": 103,
   "metadata": {},
   "outputs": [
    {
     "data": {
      "text/plain": [
       "(84, 13784, 13500)"
      ]
     },
     "execution_count": 103,
     "metadata": {},
     "output_type": "execute_result"
    }
   ],
   "source": [
    "np.linalg.matrix_rank(w2v_sv_vecs), len(list(np.sum(w2v_sv_vecs, axis = 1))),len(set(np.sum(w2v_sv_vecs, axis = 1)))"
   ]
  },
  {
   "cell_type": "code",
   "execution_count": 117,
   "metadata": {},
   "outputs": [
    {
     "name": "stderr",
     "output_type": "stream",
     "text": [
      "/Users/clarity/Code/virtualenvs/main/lib/python3.7/site-packages/ipykernel_launcher.py:3: FutureWarning: `rcond` parameter will change to the default of machine precision times ``max(M, N)`` where M and N are the input matrix dimensions.\n",
      "To use the future default and silence this warning we advise to pass `rcond=None`, to keep using the old, explicitly pass `rcond=-1`.\n",
      "  This is separate from the ipykernel package so we can avoid doing imports until\n",
      "/Users/clarity/Code/virtualenvs/main/lib/python3.7/site-packages/ipykernel_launcher.py:6: FutureWarning: `rcond` parameter will change to the default of machine precision times ``max(M, N)`` where M and N are the input matrix dimensions.\n",
      "To use the future default and silence this warning we advise to pass `rcond=None`, to keep using the old, explicitly pass `rcond=-1`.\n",
      "  \n"
     ]
    }
   ],
   "source": [
    "# a x = b\n",
    "\n",
    "x, res, rank, sing = np.linalg.lstsq(sv_train, en_train)\n",
    "\n",
    "\n",
    "x_e, res_elmo, rank_elmo, sing_elmo = np.linalg.lstsq(sv_train_e, en_train)\n"
   ]
  },
  {
   "cell_type": "code",
   "execution_count": 137,
   "metadata": {},
   "outputs": [
    {
     "name": "stdout",
     "output_type": "stream",
     "text": [
      "Transform matrix for w2v (301, 512), \n",
      "Transform m for elmo (1025, 512)\n",
      "train error of regression for w2w 54.7, elmo 40.7, \n",
      "test error w2v 3.59e+10 elmo 57.0\n"
     ]
    }
   ],
   "source": [
    "print('Transform matrix for w2v {}, \\nTransform m for elmo {}'.format(x.shape, x_e.shape))\n",
    "print('train error of regression for w2w {:.3}, elmo {:.3}, \\ntest error w2v {:.3} elmo {:.3}'.format(\n",
    "    np.linalg.norm(en_train -(sv_train@x)),\\\n",
    "    np.linalg.norm(en_train -(sv_train_e@x_e)), \\\n",
    "    np.linalg.norm(en_val -(sv_val@x)),\\\n",
    "    np.linalg.norm(en_val -(sv_val_e@x_e)))) \n"
   ]
  },
  {
   "cell_type": "code",
   "execution_count": 134,
   "metadata": {},
   "outputs": [
    {
     "name": "stdout",
     "output_type": "stream",
     "text": [
      "USE vectors on USE model testset: 0.953\n",
      "Transformed w2v vecs from val and test 0.707, 0.72\n",
      "Transformed elmo vecs from val and test 0.88, 0.878\n"
     ]
    }
   ],
   "source": [
    "def eval(model, vectors, labels):\n",
    "    with torch.no_grad():\n",
    "        vectors = list(map(lambda x: np.array([x]) , vectors))\n",
    "        #labels = list(map(lambda x: np.array([x]) , labels))\n",
    "        vectors = torch.tensor(list(vectors)).float()\n",
    "        labels = torch.tensor(labels)\n",
    "            \n",
    "        model_out = model.forward(vectors)\n",
    "        right = 0\n",
    "        \n",
    "        for i  in range(len(model_out)):\n",
    "            k, v = model_out[i].topk(1)\n",
    "            predicted, true = v.item(), labels[i].item()\n",
    "            if predicted == true:\n",
    "                right +=1\n",
    "        return right/len(model_out)\n",
    "    \n",
    "print('USE vectors on USE model testset: {:.3}'.format(eval(net, en_test, labs_test)))\n",
    "print('Transformed w2v vecs from val and test {:.3}, {:.3}'.format(eval(net, sv_val@x, labs_val),\n",
    "                                                             eval(net, sv_test@x, labs_test)))\n",
    "print('Transformed elmo vecs from val and test {:.3}, {:.3}'.format(eval(net, sv_val_e@x_e, labs_val),\n",
    "                                                             eval(net, sv_test_e@x_e, labs_test)))\n"
   ]
  },
  {
   "cell_type": "code",
   "execution_count": null,
   "metadata": {},
   "outputs": [],
   "source": []
  },
  {
   "cell_type": "code",
   "execution_count": null,
   "metadata": {},
   "outputs": [],
   "source": []
  },
  {
   "cell_type": "code",
   "execution_count": null,
   "metadata": {},
   "outputs": [],
   "source": [
    "\n"
   ]
  },
  {
   "cell_type": "code",
   "execution_count": null,
   "metadata": {},
   "outputs": [],
   "source": []
  }
 ],
 "metadata": {
  "kernelspec": {
   "display_name": "Python 3",
   "language": "python",
   "name": "python3"
  },
  "language_info": {
   "codemirror_mode": {
    "name": "ipython",
    "version": 3
   },
   "file_extension": ".py",
   "mimetype": "text/x-python",
   "name": "python",
   "nbconvert_exporter": "python",
   "pygments_lexer": "ipython3",
   "version": "3.7.1"
  }
 },
 "nbformat": 4,
 "nbformat_minor": 2
}
