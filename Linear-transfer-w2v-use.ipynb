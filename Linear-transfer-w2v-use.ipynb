{
 "cells": [
  {
   "cell_type": "code",
   "execution_count": 1,
   "metadata": {},
   "outputs": [],
   "source": [
    "import json\n",
    "import csv\n",
    "import random\n",
    "import time\n",
    "import torch\n",
    "import torch.nn as nn\n",
    "import numpy as np"
   ]
  },
  {
   "cell_type": "code",
   "execution_count": 2,
   "metadata": {},
   "outputs": [
    {
     "data": {
      "text/plain": [
       "Baseline(\n",
       "  (W): Linear(in_features=512, out_features=7, bias=True)\n",
       "  (out): LogSoftmax()\n",
       ")"
      ]
     },
     "execution_count": 2,
     "metadata": {},
     "output_type": "execute_result"
    }
   ],
   "source": [
    "class Baseline(nn.Module):\n",
    "    def __init__(self, in_size = 512, out_size = 7):\n",
    "        super(Baseline, self).__init__()\n",
    "\n",
    "        self.W = nn.Linear(in_size, 7)\n",
    "        self.out = nn.LogSoftmax(2)\n",
    "        \n",
    "    def forward(self, x):\n",
    "        x = self.W(x)\n",
    "        return self.out(x)\n",
    "net = torch.load('models/USE-linear')\n",
    "net.eval()"
   ]
  },
  {
   "cell_type": "code",
   "execution_count": 80,
   "metadata": {},
   "outputs": [
    {
     "data": {
      "text/plain": [
       "((10000, 512), (10000, 301))"
      ]
     },
     "execution_count": 80,
     "metadata": {},
     "output_type": "execute_result"
    }
   ],
   "source": [
    "use_en_vecs_t = np.load('data/snips_processed/USE-en-train.npy')\n",
    "w2v_sv_vecs_t = np.load('data/snips_processed/W2V-sv-train.npy')\n",
    "labs = np.load('data/snips_processed/train-labs.npy')\n",
    "\n",
    "w2v_sv_vecs = np.squeeze(w2v_sv_vecs_t, axis=1)\n",
    "use_en_vecs = np.squeeze(use_en_vecs_t, axis=1)\n",
    "\n",
    "#appendd bias\n",
    "w2v_sv_vecs = np.hstack([w2v_sv_vecs, np.array([np.ones(len(w2v_sv_vecs))]).T])\n",
    "\n",
    "en_train = use_en_vecs[: 4000]\n",
    "en_val = use_en_vecs[4000:8000]\n",
    "en_test = use_en_vecs[8000:]\n",
    "\n",
    "sv_train = w2v_sv_vecs[: 4000]\n",
    "sv_val = w2v_sv_vecs[4000:8000]\n",
    "sv_test = w2v_sv_vecs[8000:]\n",
    "\n",
    "labs_train = labs[: 4000]\n",
    "labs_val = labs[4000:8000]\n",
    "labs_test = labs[8000:]\n",
    "use_en_vecs.shape, w2v_sv_vecs.shape"
   ]
  },
  {
   "cell_type": "code",
   "execution_count": 62,
   "metadata": {},
   "outputs": [
    {
     "data": {
      "text/plain": [
       "(77, 10000, 9837)"
      ]
     },
     "execution_count": 62,
     "metadata": {},
     "output_type": "execute_result"
    }
   ],
   "source": [
    "np.linalg.matrix_rank(w2v_sv_vecs), len(list(np.sum(w2v_sv_vecs, axis = 1))),len(set(np.sum(w2v_sv_vecs, axis = 1)))"
   ]
  },
  {
   "cell_type": "code",
   "execution_count": 63,
   "metadata": {},
   "outputs": [
    {
     "name": "stderr",
     "output_type": "stream",
     "text": [
      "/Users/clarity/Code/virtualenvs/main/lib/python3.7/site-packages/ipykernel_launcher.py:3: FutureWarning: `rcond` parameter will change to the default of machine precision times ``max(M, N)`` where M and N are the input matrix dimensions.\n",
      "To use the future default and silence this warning we advise to pass `rcond=None`, to keep using the old, explicitly pass `rcond=-1`.\n",
      "  This is separate from the ipykernel package so we can avoid doing imports until\n"
     ]
    }
   ],
   "source": [
    "# a x = b\n",
    "\n",
    "x, res, rank, sing = np.linalg.lstsq(sv_train, en_train)"
   ]
  },
  {
   "cell_type": "code",
   "execution_count": 89,
   "metadata": {},
   "outputs": [
    {
     "data": {
      "text/plain": [
       "((301, 512),\n",
       " (4000, 301),\n",
       " (4000, 512),\n",
       " (4000, 512),\n",
       " 48.85690431195968,\n",
       " 59419169996.74705)"
      ]
     },
     "execution_count": 89,
     "metadata": {},
     "output_type": "execute_result"
    }
   ],
   "source": [
    "x.shape,\\\n",
    "sv_train.shape,\\\n",
    "en_train.shape,\\\n",
    "(sv_train@x).shape,\\\n",
    "np.linalg.norm(en_train -(sv_train@x)),\\\n",
    "np.linalg.norm(en_val -(sv_val@x))"
   ]
  },
  {
   "cell_type": "code",
   "execution_count": 94,
   "metadata": {},
   "outputs": [
    {
     "data": {
      "text/plain": [
       "(0.96125, 0.7325, 0.71475, 0.701)"
      ]
     },
     "execution_count": 94,
     "metadata": {},
     "output_type": "execute_result"
    }
   ],
   "source": [
    "def eval(model, vectors, labels):\n",
    "    with torch.no_grad():\n",
    "        vectors = list(map(lambda x: np.array([x]) , vectors))\n",
    "        #labels = list(map(lambda x: np.array([x]) , labels))\n",
    "        vectors = torch.tensor(list(vectors)).float()\n",
    "        labels = torch.tensor(labels)\n",
    "            \n",
    "        model_out = model.forward(vectors)\n",
    "        right = 0\n",
    "        \n",
    "        for i  in range(len(model_out)):\n",
    "            k, v = model_out[i].topk(1)\n",
    "            predicted, true = v.item(), labels[i].item()\n",
    "            if predicted == true:\n",
    "                right +=1\n",
    "        return right/len(model_out)\n",
    "eval(net,en_train, labs_train), \\\n",
    "eval(net, sv_train@x, labs_train),\\\n",
    "eval(net, sv_val@x, labs_val),\\\n",
    "eval(net, sv_test@x, labs_test)"
   ]
  },
  {
   "cell_type": "code",
   "execution_count": null,
   "metadata": {},
   "outputs": [],
   "source": []
  },
  {
   "cell_type": "code",
   "execution_count": null,
   "metadata": {},
   "outputs": [],
   "source": []
  },
  {
   "cell_type": "code",
   "execution_count": null,
   "metadata": {},
   "outputs": [],
   "source": [
    "\n"
   ]
  },
  {
   "cell_type": "code",
   "execution_count": null,
   "metadata": {},
   "outputs": [],
   "source": []
  }
 ],
 "metadata": {
  "kernelspec": {
   "display_name": "Python 3",
   "language": "python",
   "name": "python3"
  },
  "language_info": {
   "codemirror_mode": {
    "name": "ipython",
    "version": 3
   },
   "file_extension": ".py",
   "mimetype": "text/x-python",
   "name": "python",
   "nbconvert_exporter": "python",
   "pygments_lexer": "ipython3",
   "version": "3.7.1"
  }
 },
 "nbformat": 4,
 "nbformat_minor": 2
}
