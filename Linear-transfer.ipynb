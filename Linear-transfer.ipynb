{
 "cells": [
  {
   "cell_type": "code",
   "execution_count": 2,
   "metadata": {},
   "outputs": [],
   "source": [
    "import json\n",
    "import csv\n",
    "import random\n",
    "import time\n",
    "import torch\n",
    "import torch.nn as nn\n",
    "import numpy as np"
   ]
  },
  {
   "cell_type": "code",
   "execution_count": 5,
   "metadata": {},
   "outputs": [],
   "source": [
    "\n",
    "fasttext_sv = np.load('data/snips_processed/FastText-sv.npy')\n",
    "fasttext_en = np.load('data/snips_processed/FastText-en.npy')\n",
    "fasttext_fi = np.load('data/snips_processed/FastText-fi.npy')\n",
    "fasttext_uw_sv = np.load('data/snips_processed/FastText-uw-sv.npy')\n",
    "fasttext_uw_en = np.load('data/snips_processed/FastText-uw-en.npy')\n",
    "fasttext_uw_fi = np.load('data/snips_processed/FastText-uw-fi.npy')\n",
    "\n",
    "elmo_sv = np.load('data/snips_processed/ELMO-sv.npy')\n",
    "elmo_en = np.load('data/snips_processed/ELMO-en.npy')\n",
    "use_en = np.load('data/snips_processed/USE-en.npy')\n",
    "\n",
    "labs = np.load('data/snips_processed/labs.npy')\n",
    "\n",
    "fasttext_sv = np.squeeze(fasttext_sv, axis=1)\n",
    "fasttext_en = np.squeeze(fasttext_en, axis=1)\n",
    "fasttext_fi = np.squeeze(fasttext_fi, axis=1)\n",
    "fasttext_uw_sv = np.squeeze(fasttext_uw_sv, axis=1)\n",
    "fasttext_uw_en = np.squeeze(fasttext_uw_en, axis=1)\n",
    "fasttext_uw_fi = np.squeeze(fasttext_uw_fi, axis=1)\n",
    "elmo_sv = np.squeeze(elmo_sv, axis=1)\n",
    "elmo_en = np.squeeze(elmo_en, axis=1)\n",
    "use_en = np.squeeze(use_en, axis=1)\n",
    "\n",
    "\n",
    "#appendd bias\n",
    "fasttext_sv = np.hstack([fasttext_sv, np.array([np.ones(len(fasttext_sv))]).T])\n",
    "fasttext_uw_sv = np.hstack([fasttext_uw_sv, np.array([np.ones(len(fasttext_uw_sv))]).T])\n",
    "\n",
    "fasttext_uw_fi = np.hstack([fasttext_uw_fi, np.array([np.ones(len(fasttext_uw_fi))]).T])\n",
    "elmo_sv = np.hstack([elmo_sv, np.array([np.ones(len(elmo_sv))]).T])\n"
   ]
  },
  {
   "cell_type": "code",
   "execution_count": 6,
   "metadata": {},
   "outputs": [],
   "source": [
    "def closest_index(request, dots, forbiden_index=-1):\n",
    "    dists = np.linalg.norm(dots-request, axis=1)\n",
    "    res =  np.argmin(dists)\n",
    "    \n",
    "    if res == forbiden_index:\n",
    "        dists[res] = np.inf\n",
    "        return np.argmin(dists)\n",
    "    return res\n",
    "\n",
    "def test_transformation(x, test_in, test_out, test_labels, verbose = False, notransform=False):\n",
    "    right = 0\n",
    "    n =  len(test_in)\n",
    "    for i in range(n):\n",
    "        vec_in = test_in[i]\n",
    "        true_lab = test_labels[i]\n",
    "        \n",
    "        vec_out =  vec_in if notransform else vec_in@x\n",
    "        predicted_index = closest_index(vec_out, test_out, forbiden_index=i)\n",
    "        predicted_lab = test_labels[predicted_index]\n",
    "        \n",
    "        if predicted_lab == true_lab:\n",
    "            right += 1\n",
    "            \n",
    "        if verbose and i%100 == 0:\n",
    "            print('{}/{} tested, right: {}, acc {}'.format(i, n, right, right/n))\n",
    "\n",
    "    return right/n\n",
    "        \n",
    "        \n",
    "    \n",
    "def test_transform_pair(vecs_in, vecs_out, labels, start_test_i=0,end_test_i=5000, notransform=False):\n",
    "    \n",
    "    train_in = np.vstack((vecs_in[:start_test_i], vecs_in[end_test_i :]))\n",
    "    train_out = np.vstack((vecs_out[:start_test_i], vecs_out[end_test_i :]))\n",
    "    \n",
    "    test_in = vecs_in[start_test_i: end_test_i]\n",
    "    test_out = vecs_out[start_test_i: end_test_i]\n",
    "    test_labels = labels[start_test_i: end_test_i]\n",
    "    \n",
    "    x, res, rank, sing = np.linalg.lstsq(train_in, train_out)\n",
    "    \n",
    "    return test_transformation(x, test_in, test_out, test_labels, notransform=notransform)\n",
    "        "
   ]
  },
  {
   "cell_type": "code",
   "execution_count": 7,
   "metadata": {
    "scrolled": true
   },
   "outputs": [],
   "source": [
    "def cv(vecs_in, vecs_out, labs, folds = 5, notransform=False):\n",
    "    \n",
    "    delims = np.arange(0, len(vecs_in), len(vecs_in)//folds)\n",
    "    results = []\n",
    "    t = time.time()\n",
    "    for i in range(folds):\n",
    "        acc = test_transform_pair(vecs_in, vecs_out,labs,  start_test_i=delims[i],end_test_i=delims[i+1], notransform=notransform)\n",
    "        \n",
    "        results.append(acc)\n",
    "        print('#{:3d}, {:5d} sec. acc = {:.3f}'.format(i+1, int(time.time() - t), results[-1]))\n",
    "\n",
    "    return(sum(results)/len(results))   \n",
    "    "
   ]
  },
  {
   "cell_type": "code",
   "execution_count": 71,
   "metadata": {},
   "outputs": [
    {
     "name": "stderr",
     "output_type": "stream",
     "text": [
      "/Users/clarity/Code/virtualenvs/main/lib/python3.7/site-packages/ipykernel_launcher.py:40: FutureWarning: `rcond` parameter will change to the default of machine precision times ``max(M, N)`` where M and N are the input matrix dimensions.\n",
      "To use the future default and silence this warning we advise to pass `rcond=None`, to keep using the old, explicitly pass `rcond=-1`.\n"
     ]
    },
    {
     "name": "stdout",
     "output_type": "stream",
     "text": [
      "#  0,    52 sec. acc = 0.901\n",
      "#  1,   104 sec. acc = 0.897\n",
      "#  2,   158 sec. acc = 0.897\n",
      "#  3,   208 sec. acc = 0.872\n",
      "#  4,   260 sec. acc = 0.892\n"
     ]
    },
    {
     "data": {
      "text/plain": [
       "0.891944847605225"
      ]
     },
     "execution_count": 71,
     "metadata": {},
     "output_type": "execute_result"
    }
   ],
   "source": [
    "cv(elmo_sv, elmo_en, labs)"
   ]
  },
  {
   "cell_type": "code",
   "execution_count": 81,
   "metadata": {},
   "outputs": [
    {
     "name": "stderr",
     "output_type": "stream",
     "text": [
      "/Users/clarity/Code/virtualenvs/main/lib/python3.7/site-packages/ipykernel_launcher.py:40: FutureWarning: `rcond` parameter will change to the default of machine precision times ``max(M, N)`` where M and N are the input matrix dimensions.\n",
      "To use the future default and silence this warning we advise to pass `rcond=None`, to keep using the old, explicitly pass `rcond=-1`.\n"
     ]
    },
    {
     "name": "stdout",
     "output_type": "stream",
     "text": [
      "#  1,    86 sec. acc = 0.882\n",
      "#  2,   158 sec. acc = 0.873\n",
      "#  3,   217 sec. acc = 0.874\n",
      "#  4,   264 sec. acc = 0.835\n",
      "#  5,   310 sec. acc = 0.849\n"
     ]
    },
    {
     "data": {
      "text/plain": [
       "0.8626269956458635"
      ]
     },
     "execution_count": 81,
     "metadata": {},
     "output_type": "execute_result"
    }
   ],
   "source": [
    "cv(fasttext_sv, elmo_en, labs)"
   ]
  },
  {
   "cell_type": "code",
   "execution_count": 73,
   "metadata": {},
   "outputs": [
    {
     "name": "stderr",
     "output_type": "stream",
     "text": [
      "/Users/clarity/Code/virtualenvs/main/lib/python3.7/site-packages/ipykernel_launcher.py:40: FutureWarning: `rcond` parameter will change to the default of machine precision times ``max(M, N)`` where M and N are the input matrix dimensions.\n",
      "To use the future default and silence this warning we advise to pass `rcond=None`, to keep using the old, explicitly pass `rcond=-1`.\n"
     ]
    },
    {
     "name": "stdout",
     "output_type": "stream",
     "text": [
      "#  0,    24 sec. acc = 0.910\n",
      "#  1,    48 sec. acc = 0.923\n",
      "#  2,    72 sec. acc = 0.919\n",
      "#  3,    93 sec. acc = 0.904\n",
      "#  4,   115 sec. acc = 0.923\n"
     ]
    },
    {
     "data": {
      "text/plain": [
       "0.9158925979680695"
      ]
     },
     "execution_count": 73,
     "metadata": {},
     "output_type": "execute_result"
    }
   ],
   "source": [
    "cv(elmo_sv, use_en, labs)"
   ]
  },
  {
   "cell_type": "code",
   "execution_count": 82,
   "metadata": {},
   "outputs": [
    {
     "name": "stderr",
     "output_type": "stream",
     "text": [
      "/Users/clarity/Code/virtualenvs/main/lib/python3.7/site-packages/ipykernel_launcher.py:40: FutureWarning: `rcond` parameter will change to the default of machine precision times ``max(M, N)`` where M and N are the input matrix dimensions.\n",
      "To use the future default and silence this warning we advise to pass `rcond=None`, to keep using the old, explicitly pass `rcond=-1`.\n"
     ]
    },
    {
     "name": "stdout",
     "output_type": "stream",
     "text": [
      "#  1,    22 sec. acc = 0.890\n",
      "#  2,    42 sec. acc = 0.907\n",
      "#  3,    60 sec. acc = 0.906\n",
      "#  4,    79 sec. acc = 0.880\n",
      "#  5,    98 sec. acc = 0.899\n"
     ]
    },
    {
     "data": {
      "text/plain": [
       "0.896589259796807"
      ]
     },
     "execution_count": 82,
     "metadata": {},
     "output_type": "execute_result"
    }
   ],
   "source": [
    "cv(fasttext_sv, use_en, labs)"
   ]
  },
  {
   "cell_type": "code",
   "execution_count": 85,
   "metadata": {},
   "outputs": [
    {
     "name": "stderr",
     "output_type": "stream",
     "text": [
      "/Users/clarity/Code/virtualenvs/main/lib/python3.7/site-packages/ipykernel_launcher.py:40: FutureWarning: `rcond` parameter will change to the default of machine precision times ``max(M, N)`` where M and N are the input matrix dimensions.\n",
      "To use the future default and silence this warning we advise to pass `rcond=None`, to keep using the old, explicitly pass `rcond=-1`.\n"
     ]
    },
    {
     "name": "stdout",
     "output_type": "stream",
     "text": [
      "#  1,    46 sec. acc = 0.903\n",
      "#  2,    96 sec. acc = 0.898\n",
      "#  3,   145 sec. acc = 0.890\n",
      "#  4,   188 sec. acc = 0.861\n",
      "#  5,   261 sec. acc = 0.892\n"
     ]
    },
    {
     "data": {
      "text/plain": [
       "0.8888243831640057"
      ]
     },
     "execution_count": 85,
     "metadata": {},
     "output_type": "execute_result"
    }
   ],
   "source": [
    "cv(fasttext_uw_sv, elmo_en, labs)"
   ]
  },
  {
   "cell_type": "code",
   "execution_count": 84,
   "metadata": {},
   "outputs": [
    {
     "name": "stderr",
     "output_type": "stream",
     "text": [
      "/Users/clarity/Code/virtualenvs/main/lib/python3.7/site-packages/ipykernel_launcher.py:40: FutureWarning: `rcond` parameter will change to the default of machine precision times ``max(M, N)`` where M and N are the input matrix dimensions.\n",
      "To use the future default and silence this warning we advise to pass `rcond=None`, to keep using the old, explicitly pass `rcond=-1`.\n"
     ]
    },
    {
     "name": "stdout",
     "output_type": "stream",
     "text": [
      "#  1,    22 sec. acc = 0.910\n",
      "#  2,    40 sec. acc = 0.926\n",
      "#  3,    60 sec. acc = 0.918\n",
      "#  4,    81 sec. acc = 0.890\n",
      "#  5,   107 sec. acc = 0.918\n"
     ]
    },
    {
     "data": {
      "text/plain": [
       "0.9123367198838895"
      ]
     },
     "execution_count": 84,
     "metadata": {},
     "output_type": "execute_result"
    }
   ],
   "source": [
    "cv(fasttext_uw_sv, use_en, labs)"
   ]
  },
  {
   "cell_type": "code",
   "execution_count": 8,
   "metadata": {},
   "outputs": [
    {
     "name": "stderr",
     "output_type": "stream",
     "text": [
      "/Users/clarity/Code/virtualenvs/main/lib/python3.7/site-packages/ipykernel_launcher.py:40: FutureWarning: `rcond` parameter will change to the default of machine precision times ``max(M, N)`` where M and N are the input matrix dimensions.\n",
      "To use the future default and silence this warning we advise to pass `rcond=None`, to keep using the old, explicitly pass `rcond=-1`.\n"
     ]
    },
    {
     "name": "stdout",
     "output_type": "stream",
     "text": [
      "#  1,    16 sec. acc = 0.902\n",
      "#  2,    34 sec. acc = 0.933\n",
      "#  3,    54 sec. acc = 0.930\n",
      "#  4,    75 sec. acc = 0.897\n",
      "#  5,    94 sec. acc = 0.929\n"
     ]
    },
    {
     "data": {
      "text/plain": [
       "0.9182148040638607"
      ]
     },
     "execution_count": 8,
     "metadata": {},
     "output_type": "execute_result"
    }
   ],
   "source": [
    "cv(fasttext_uw_fi, use_en, labs)"
   ]
  },
  {
   "cell_type": "code",
   "execution_count": 9,
   "metadata": {},
   "outputs": [
    {
     "name": "stderr",
     "output_type": "stream",
     "text": [
      "/Users/clarity/Code/virtualenvs/main/lib/python3.7/site-packages/ipykernel_launcher.py:40: FutureWarning: `rcond` parameter will change to the default of machine precision times ``max(M, N)`` where M and N are the input matrix dimensions.\n",
      "To use the future default and silence this warning we advise to pass `rcond=None`, to keep using the old, explicitly pass `rcond=-1`.\n"
     ]
    },
    {
     "name": "stdout",
     "output_type": "stream",
     "text": [
      "#  1,    19 sec. acc = 0.881\n",
      "#  2,    37 sec. acc = 0.898\n",
      "#  3,    55 sec. acc = 0.892\n",
      "#  4,    71 sec. acc = 0.872\n",
      "#  5,    87 sec. acc = 0.888\n"
     ]
    },
    {
     "data": {
      "text/plain": [
       "0.8860667634252539"
      ]
     },
     "execution_count": 9,
     "metadata": {},
     "output_type": "execute_result"
    }
   ],
   "source": [
    "cv(fasttext_fi, use_en, labs)"
   ]
  },
  {
   "cell_type": "code",
   "execution_count": 103,
   "metadata": {},
   "outputs": [
    {
     "name": "stderr",
     "output_type": "stream",
     "text": [
      "/Users/clarity/Code/virtualenvs/main/lib/python3.7/site-packages/ipykernel_launcher.py:40: FutureWarning: `rcond` parameter will change to the default of machine precision times ``max(M, N)`` where M and N are the input matrix dimensions.\n",
      "To use the future default and silence this warning we advise to pass `rcond=None`, to keep using the old, explicitly pass `rcond=-1`.\n"
     ]
    },
    {
     "name": "stdout",
     "output_type": "stream",
     "text": [
      "#  1,     6 sec. acc = 0.861\n",
      "#  2,    15 sec. acc = 0.870\n",
      "#  3,    24 sec. acc = 0.849\n",
      "#  4,    31 sec. acc = 0.848\n",
      "#  5,    39 sec. acc = 0.849\n",
      "0.8555152394775035\n",
      "#  1,    14 sec. acc = 0.814\n",
      "#  2,    32 sec. acc = 0.817\n",
      "#  3,    47 sec. acc = 0.817\n",
      "#  4,    62 sec. acc = 0.806\n",
      "#  5,    78 sec. acc = 0.798\n",
      "0.8103047895500726\n",
      "#  1,    16 sec. acc = 0.903\n",
      "#  2,    32 sec. acc = 0.901\n",
      "#  3,    47 sec. acc = 0.902\n",
      "#  4,    61 sec. acc = 0.901\n",
      "#  5,    75 sec. acc = 0.889\n",
      "0.8992017416545718\n",
      "#  1,    54 sec. acc = 0.895\n",
      "#  2,   108 sec. acc = 0.904\n",
      "#  3,   154 sec. acc = 0.904\n",
      "#  4,   201 sec. acc = 0.892\n",
      "#  5,   250 sec. acc = 0.901\n",
      "0.8991291727140783\n",
      "#  1,    25 sec. acc = 0.922\n",
      "#  2,    51 sec. acc = 0.915\n",
      "#  3,    76 sec. acc = 0.911\n",
      "#  4,   102 sec. acc = 0.913\n",
      "#  5,   130 sec. acc = 0.909\n",
      "0.9140058055152395\n"
     ]
    }
   ],
   "source": [
    "#notransform (single emb test)\n",
    "\n",
    "#cv(fasttext_uw_en, fasttext_uw_en,labs, notransform=True)\n",
    "print(cv(fasttext_en, fasttext_en,labs, notransform=True))\n",
    "print(cv(fasttext_sv, fasttext_sv,labs, notransform=True))\n",
    "print(cv(fasttext_uw_sv, fasttext_uw_sv,labs, notransform=True))\n",
    "print(cv(elmo_sv, elmo_sv,labs, notransform=True))\n",
    "print(cv(elmo_en, elmo_en,labs, notransform=True))"
   ]
  },
  {
   "cell_type": "code",
   "execution_count": 7,
   "metadata": {},
   "outputs": [
    {
     "name": "stderr",
     "output_type": "stream",
     "text": [
      "/Users/clarity/Code/virtualenvs/main/lib/python3.7/site-packages/ipykernel_launcher.py:40: FutureWarning: `rcond` parameter will change to the default of machine precision times ``max(M, N)`` where M and N are the input matrix dimensions.\n",
      "To use the future default and silence this warning we advise to pass `rcond=None`, to keep using the old, explicitly pass `rcond=-1`.\n"
     ]
    },
    {
     "name": "stdout",
     "output_type": "stream",
     "text": [
      "#  1,    28 sec. acc = 0.925\n",
      "#  2,    61 sec. acc = 0.917\n",
      "#  3,    92 sec. acc = 0.925\n",
      "#  4,   127 sec. acc = 0.918\n",
      "#  5,   159 sec. acc = 0.928\n",
      "0.9223512336719883\n"
     ]
    }
   ],
   "source": [
    "print(cv(use_en, use_en,labs, notransform=True))"
   ]
  },
  {
   "cell_type": "code",
   "execution_count": 137,
   "metadata": {},
   "outputs": [
    {
     "name": "stdout",
     "output_type": "stream",
     "text": [
      "Transform matrix for w2v (301, 512), \n",
      "Transform m for elmo (1025, 512)\n",
      "train error of regression for w2w 54.7, elmo 40.7, \n",
      "test error w2v 3.59e+10 elmo 57.0\n"
     ]
    }
   ],
   "source": [
    "print('Transform matrix for w2v {}, \\nTransform m for elmo {}'.format(x.shape, x_e.shape))\n",
    "print('train error of regression for w2w {:.3}, elmo {:.3}, \\ntest error w2v {:.3} elmo {:.3}'.format(\n",
    "    np.linalg.norm(en_train -(sv_train@x)),\\\n",
    "    np.linalg.norm(en_train -(sv_train_e@x_e)), \\\n",
    "    np.linalg.norm(en_val -(sv_val@x)),\\\n",
    "    np.linalg.norm(en_val -(sv_val_e@x_e)))) \n"
   ]
  },
  {
   "cell_type": "code",
   "execution_count": 10,
   "metadata": {},
   "outputs": [],
   "source": [
    " def transformation_MSE(vecs_in, vecs_out, start_test_i=0,end_test_i=5000):\n",
    "    \n",
    "    train_in = np.vstack((vecs_in[:start_test_i], vecs_in[end_test_i :]))\n",
    "    train_out = np.vstack((vecs_out[:start_test_i], vecs_out[end_test_i :]))\n",
    "    \n",
    "    test_in = vecs_in[start_test_i: end_test_i]\n",
    "    test_out = vecs_out[start_test_i: end_test_i]\n",
    "    \n",
    "    x, res, rank, sing = np.linalg.lstsq(train_in, train_out)\n",
    "    res_out = test_in@x\n",
    "    c =  torch.nn.MSELoss()\n",
    "    i = torch.tensor(test_out).float()\n",
    "    j = torch.tensor(res_out).float()\n",
    "    return(c(i, j))"
   ]
  },
  {
   "cell_type": "code",
   "execution_count": 11,
   "metadata": {},
   "outputs": [],
   "source": [
    "def cv_mse(vecs_in, vecs_out, folds = 5, notransform=False):\n",
    "    \n",
    "    delims = np.arange(0, len(vecs_in), len(vecs_in)//folds)\n",
    "    results = []\n",
    "    t = time.time()\n",
    "    for i in range(folds):\n",
    "        acc = transformation_MSE(vecs_in, vecs_out,  start_test_i=delims[i],end_test_i=delims[i+1])\n",
    "        \n",
    "        results.append(acc)\n",
    "        print('#{:3d}, {:5d} sec. acc = {:.9f}'.format(i+1, int(time.time() - t), results[-1]))\n",
    "\n",
    "    return(sum(results)/len(results))   \n"
   ]
  },
  {
   "cell_type": "code",
   "execution_count": 12,
   "metadata": {},
   "outputs": [
    {
     "name": "stderr",
     "output_type": "stream",
     "text": [
      "/Users/clarity/Code/virtualenvs/main/lib/python3.7/site-packages/ipykernel_launcher.py:9: FutureWarning: `rcond` parameter will change to the default of machine precision times ``max(M, N)`` where M and N are the input matrix dimensions.\n",
      "To use the future default and silence this warning we advise to pass `rcond=None`, to keep using the old, explicitly pass `rcond=-1`.\n",
      "  if __name__ == '__main__':\n"
     ]
    },
    {
     "name": "stdout",
     "output_type": "stream",
     "text": [
      "#  1,     8 sec. acc = 0.000889627\n",
      "#  2,    15 sec. acc = 0.000895678\n",
      "#  3,    20 sec. acc = 0.000893725\n",
      "#  4,    27 sec. acc = 0.000897559\n",
      "#  5,    30 sec. acc = 0.000883288\n",
      "0.0008919754181988537\n",
      "#  1,     5 sec. acc = 0.000905060\n",
      "#  2,    12 sec. acc = 0.000930227\n",
      "#  3,    15 sec. acc = 0.000922849\n",
      "#  4,    18 sec. acc = 0.000934593\n",
      "#  5,    21 sec. acc = 0.000937212\n",
      "0.0009259882499463856\n"
     ]
    }
   ],
   "source": [
    "print(cv_mse(fasttext_fi, use_en).item())\n",
    "print(cv_mse(fasttext_uw_fi, use_en).item())"
   ]
  },
  {
   "cell_type": "code",
   "execution_count": 32,
   "metadata": {},
   "outputs": [
    {
     "name": "stderr",
     "output_type": "stream",
     "text": [
      "/Users/clarity/Code/virtualenvs/main/lib/python3.7/site-packages/ipykernel_launcher.py:9: FutureWarning: `rcond` parameter will change to the default of machine precision times ``max(M, N)`` where M and N are the input matrix dimensions.\n",
      "To use the future default and silence this warning we advise to pass `rcond=None`, to keep using the old, explicitly pass `rcond=-1`.\n",
      "  if __name__ == '__main__':\n"
     ]
    },
    {
     "name": "stdout",
     "output_type": "stream",
     "text": [
      "#  1,     2 sec. acc = 0.007755050\n",
      "#  2,     4 sec. acc = 0.007365789\n",
      "#  3,     7 sec. acc = 0.006656331\n",
      "#  4,    10 sec. acc = 0.007450757\n",
      "#  5,    13 sec. acc = 0.008023358\n",
      "0.0074502574279904366\n",
      "#  1,     3 sec. acc = 0.000838520\n",
      "#  2,    12 sec. acc = 0.000832682\n",
      "#  3,    14 sec. acc = 0.000839353\n",
      "#  4,    16 sec. acc = 0.000841297\n",
      "#  5,    18 sec. acc = 0.000835262\n",
      "0.0008374226163141429\n",
      "#  1,     1 sec. acc = 0.008533436\n",
      "#  2,     4 sec. acc = 0.009000858\n",
      "#  3,     7 sec. acc = 0.008245867\n",
      "#  4,     9 sec. acc = 0.009304198\n",
      "#  5,    15 sec. acc = 0.008982901\n",
      "0.00881345197558403\n",
      "#  1,     6 sec. acc = 0.000888445\n",
      "#  2,     8 sec. acc = 0.000968067\n",
      "#  3,     9 sec. acc = 0.000959471\n",
      "#  4,    11 sec. acc = 0.001013159\n",
      "#  5,    13 sec. acc = 0.000896327\n",
      "0.000945093750488013\n",
      "#  1,    21 sec. acc = 0.007087712\n",
      "#  2,    34 sec. acc = 0.006732171\n",
      "#  3,    53 sec. acc = 0.006150343\n",
      "#  4,    75 sec. acc = 0.006764330\n",
      "#  5,    90 sec. acc = 0.007386914\n",
      "0.006824294570833445\n",
      "#  1,    17 sec. acc = 0.000812360\n",
      "#  2,    24 sec. acc = 0.000810261\n",
      "#  3,    39 sec. acc = 0.000820890\n",
      "#  4,    47 sec. acc = 0.000822265\n",
      "#  5,    64 sec. acc = 0.000815004\n",
      "0.0008161559817381203\n"
     ]
    }
   ],
   "source": [
    "print(cv_mse(fasttext_sv, elmo_en).item())\n",
    "print(cv_mse(fasttext_sv, use_en).item())\n",
    "print(cv_mse(fasttext_uw_sv, elmo_en).item())\n",
    "print(cv_mse(fasttext_uw_sv, use_en).item())\n",
    "print(cv_mse(elmo_sv, elmo_en).item())\n",
    "print(cv_mse(elmo_sv, use_en).item())\n"
   ]
  },
  {
   "cell_type": "code",
   "execution_count": 30,
   "metadata": {},
   "outputs": [
    {
     "name": "stderr",
     "output_type": "stream",
     "text": [
      "/Users/clarity/Code/virtualenvs/main/lib/python3.7/site-packages/ipykernel_launcher.py:9: FutureWarning: `rcond` parameter will change to the default of machine precision times ``max(M, N)`` where M and N are the input matrix dimensions.\n",
      "To use the future default and silence this warning we advise to pass `rcond=None`, to keep using the old, explicitly pass `rcond=-1`.\n",
      "  if __name__ == '__main__':\n"
     ]
    },
    {
     "name": "stdout",
     "output_type": "stream",
     "text": [
      "#  1,     4 sec. acc = 0.000838520\n",
      "#  2,    10 sec. acc = 0.000832682\n",
      "#  3,    12 sec. acc = 0.000839353\n",
      "#  4,    13 sec. acc = 0.000841297\n",
      "#  5,    15 sec. acc = 0.000835262\n"
     ]
    }
   ],
   "source": [
    "\n",
    "r = cv_mse(fasttext_sv, use_en, notransform=True)"
   ]
  },
  {
   "cell_type": "code",
   "execution_count": 31,
   "metadata": {},
   "outputs": [
    {
     "data": {
      "text/plain": [
       "0.0008374226163141429"
      ]
     },
     "execution_count": 31,
     "metadata": {},
     "output_type": "execute_result"
    }
   ],
   "source": [
    "r.item()"
   ]
  },
  {
   "cell_type": "code",
   "execution_count": 14,
   "metadata": {},
   "outputs": [
    {
     "data": {
      "text/plain": [
       "((13784, 1, 300), (13784, 1))"
      ]
     },
     "execution_count": 14,
     "metadata": {},
     "output_type": "execute_result"
    }
   ],
   "source": [
    "#np.hstack(\n",
    "fasttext_sv.shape, np.array([np.ones(len(fasttext_sv))]).T.shape\n",
    "#)"
   ]
  },
  {
   "cell_type": "code",
   "execution_count": 38,
   "metadata": {},
   "outputs": [
    {
     "name": "stdout",
     "output_type": "stream",
     "text": [
      "1/13784 tested, right: 2, acc 2.0, ex 0\n",
      "101/13784 tested, right: 97, acc 0.9603960396039604, ex 0\n",
      "201/13784 tested, right: 191, acc 0.9502487562189055, ex 0\n",
      "301/13784 tested, right: 283, acc 0.9401993355481728, ex 0\n",
      "401/13784 tested, right: 379, acc 0.9451371571072319, ex 0\n",
      "501/13784 tested, right: 476, acc 0.9500998003992016, ex 0\n",
      "601/13784 tested, right: 575, acc 0.956738768718802, ex 0\n",
      "701/13784 tested, right: 669, acc 0.9543509272467903, ex 0\n",
      "801/13784 tested, right: 764, acc 0.9538077403245943, ex 0\n",
      "901/13784 tested, right: 858, acc 0.9522752497225305, ex 0\n",
      "1001/13784 tested, right: 953, acc 0.952047952047952, ex 0\n",
      "1101/13784 tested, right: 1045, acc 0.9491371480472298, ex 0\n",
      "1201/13784 tested, right: 1135, acc 0.9450457951706911, ex 0\n",
      "1301/13784 tested, right: 1231, acc 0.9461952344350499, ex 0\n",
      "1401/13784 tested, right: 1326, acc 0.9464668094218416, ex 0\n",
      "1501/13784 tested, right: 1422, acc 0.9473684210526315, ex 0\n",
      "1601/13784 tested, right: 1518, acc 0.948157401623985, ex 0\n",
      "1701/13784 tested, right: 1612, acc 0.9476778365667254, ex 0\n",
      "1801/13784 tested, right: 1705, acc 0.9466962798445309, ex 0\n",
      "1901/13784 tested, right: 1799, acc 0.9463440294581799, ex 0\n",
      "2001/13784 tested, right: 1896, acc 0.9475262368815592, ex 0\n",
      "2101/13784 tested, right: 1990, acc 0.9471680152308425, ex 0\n",
      "2201/13784 tested, right: 2084, acc 0.9468423443889141, ex 0\n",
      "2301/13784 tested, right: 2176, acc 0.9456757931334202, ex 0\n",
      "2401/13784 tested, right: 2270, acc 0.9454394002498959, ex 0\n",
      "2501/13784 tested, right: 2368, acc 0.9468212714914035, ex 0\n",
      "2601/13784 tested, right: 2465, acc 0.9477124183006536, ex 0\n",
      "2701/13784 tested, right: 2559, acc 0.9474268789337282, ex 0\n",
      "2801/13784 tested, right: 2651, acc 0.9464476972509818, ex 0\n",
      "2901/13784 tested, right: 2744, acc 0.9458807307824888, ex 0\n",
      "3001/13784 tested, right: 2838, acc 0.9456847717427525, ex 0\n",
      "3101/13784 tested, right: 2932, acc 0.945501451144792, ex 0\n",
      "3201/13784 tested, right: 3021, acc 0.943767572633552, ex 0\n",
      "3301/13784 tested, right: 3117, acc 0.9442593153589821, ex 0\n",
      "3401/13784 tested, right: 3214, acc 0.9450161717142017, ex 0\n",
      "3501/13784 tested, right: 3310, acc 0.945444158811768, ex 0\n",
      "3601/13784 tested, right: 3403, acc 0.9450152735351292, ex 0\n",
      "3701/13784 tested, right: 3499, acc 0.9454201567144015, ex 0\n",
      "3801/13784 tested, right: 3593, acc 0.9452775585372271, ex 0\n",
      "3901/13784 tested, right: 3687, acc 0.9451422712125096, ex 0\n",
      "4001/13784 tested, right: 3779, acc 0.944513871532117, ex 0\n",
      "4101/13784 tested, right: 3871, acc 0.9439161180199951, ex 0\n",
      "4201/13784 tested, right: 3967, acc 0.9442989764341824, ex 0\n",
      "4301/13784 tested, right: 4062, acc 0.9444315275517322, ex 0\n",
      "4401/13784 tested, right: 4156, acc 0.9443308339013861, ex 0\n",
      "4501/13784 tested, right: 4249, acc 0.9440124416796267, ex 0\n",
      "4601/13784 tested, right: 4346, acc 0.94457726581178, ex 0\n",
      "4701/13784 tested, right: 4438, acc 0.9440544564986173, ex 0\n",
      "4801/13784 tested, right: 4532, acc 0.9439700062486982, ex 0\n",
      "4901/13784 tested, right: 4624, acc 0.9434809222607631, ex 0\n",
      "5001/13784 tested, right: 4722, acc 0.9442111577684463, ex 0\n",
      "5101/13784 tested, right: 4819, acc 0.9447167222113311, ex 0\n",
      "5201/13784 tested, right: 4915, acc 0.9450105748894443, ex 0\n",
      "5301/13784 tested, right: 5013, acc 0.9456706281833617, ex 0\n",
      "5401/13784 tested, right: 5109, acc 0.9459359377892983, ex 0\n",
      "5501/13784 tested, right: 5201, acc 0.9454644610070896, ex 0\n",
      "5601/13784 tested, right: 5297, acc 0.9457239778610962, ex 0\n",
      "5701/13784 tested, right: 5388, acc 0.9450973513418699, ex 0\n",
      "5801/13784 tested, right: 5483, acc 0.945181865195656, ex 0\n",
      "5901/13784 tested, right: 5581, acc 0.9457719030672768, ex 0\n",
      "6001/13784 tested, right: 5677, acc 0.94600899850025, ex 0\n",
      "6101/13784 tested, right: 5766, acc 0.9450909686936568, ex 0\n",
      "6201/13784 tested, right: 5863, acc 0.9454926624737946, ex 0\n",
      "6301/13784 tested, right: 5958, acc 0.9455641961593398, ex 0\n",
      "6401/13784 tested, right: 6052, acc 0.9454772691766912, ex 0\n",
      "6501/13784 tested, right: 6147, acc 0.9455468389478542, ex 0\n",
      "6601/13784 tested, right: 6241, acc 0.9454628086653537, ex 0\n",
      "6701/13784 tested, right: 6338, acc 0.9458289807491419, ex 0\n",
      "6801/13784 tested, right: 6434, acc 0.9460373474489046, ex 0\n",
      "6901/13784 tested, right: 6529, acc 0.9460947688740762, ex 0\n",
      "7001/13784 tested, right: 6621, acc 0.945722039708613, ex 0\n",
      "7101/13784 tested, right: 6718, acc 0.9460639346570906, ex 0\n",
      "7201/13784 tested, right: 6814, acc 0.9462574642410776, ex 0\n",
      "7301/13784 tested, right: 6904, acc 0.9456238871387481, ex 0\n",
      "7401/13784 tested, right: 6999, acc 0.9456830158086745, ex 0\n",
      "7501/13784 tested, right: 7095, acc 0.9458738834822024, ex 0\n",
      "7601/13784 tested, right: 7189, acc 0.9457966057097751, ex 0\n",
      "7701/13784 tested, right: 7284, acc 0.9458511881573821, ex 0\n",
      "7801/13784 tested, right: 7380, acc 0.9460325599282143, ex 0\n",
      "7901/13784 tested, right: 7471, acc 0.9455765093026199, ex 0\n",
      "8001/13784 tested, right: 7570, acc 0.9461317335333084, ex 0\n",
      "8101/13784 tested, right: 7664, acc 0.9460560424638933, ex 0\n",
      "8201/13784 tested, right: 7759, acc 0.9461041336422388, ex 0\n",
      "8301/13784 tested, right: 7852, acc 0.9459101313094808, ex 0\n",
      "8401/13784 tested, right: 7944, acc 0.9456017140816569, ex 0\n",
      "8501/13784 tested, right: 8035, acc 0.945182919656511, ex 0\n",
      "8601/13784 tested, right: 8131, acc 0.9453551912568307, ex 0\n",
      "8701/13784 tested, right: 8228, acc 0.9456384323640961, ex 0\n",
      "8801/13784 tested, right: 8322, acc 0.9455743665492558, ex 0\n",
      "8901/13784 tested, right: 8415, acc 0.9453993933265925, ex 0\n",
      "9001/13784 tested, right: 8507, acc 0.9451172091989779, ex 0\n",
      "9101/13784 tested, right: 8599, acc 0.9448412262388749, ex 0\n",
      "9201/13784 tested, right: 8692, acc 0.9446799260949896, ex 0\n",
      "9301/13784 tested, right: 8785, acc 0.9445220943984518, ex 0\n",
      "9401/13784 tested, right: 8876, acc 0.9441548771407298, ex 0\n",
      "9501/13784 tested, right: 8969, acc 0.9440058941164088, ex 0\n",
      "9601/13784 tested, right: 9062, acc 0.9438600145818143, ex 0\n",
      "9701/13784 tested, right: 9160, acc 0.944232553345016, ex 0\n",
      "9801/13784 tested, right: 9258, acc 0.9445974900520355, ex 0\n",
      "9901/13784 tested, right: 9350, acc 0.9443490556509444, ex 0\n",
      "10001/13784 tested, right: 9441, acc 0.944005599440056, ex 0\n",
      "10101/13784 tested, right: 9538, acc 0.9442629442629442, ex 0\n",
      "10201/13784 tested, right: 9629, acc 0.9439270659739242, ex 0\n",
      "10301/13784 tested, right: 9723, acc 0.9438889428210854, ex 0\n",
      "10401/13784 tested, right: 9820, acc 0.9441399865397558, ex 0\n",
      "10501/13784 tested, right: 9910, acc 0.943719645748024, ex 0\n",
      "10601/13784 tested, right: 10007, acc 0.9439675502311102, ex 0\n",
      "10701/13784 tested, right: 10100, acc 0.9438370245771424, ex 0\n",
      "10801/13784 tested, right: 10190, acc 0.9434311637811313, ex 0\n",
      "10901/13784 tested, right: 10281, acc 0.9431244839922943, ex 0\n",
      "11001/13784 tested, right: 10377, acc 0.9432778838287429, ex 0\n",
      "11101/13784 tested, right: 10470, acc 0.9431582740293667, ex 0\n",
      "11201/13784 tested, right: 10563, acc 0.9430407999285778, ex 0\n",
      "11301/13784 tested, right: 10659, acc 0.943190868064773, ex 0\n",
      "11401/13784 tested, right: 10753, acc 0.9431628804490834, ex 0\n",
      "11501/13784 tested, right: 10846, acc 0.9430484305712546, ex 0\n",
      "11601/13784 tested, right: 10940, acc 0.9430221532626498, ex 0\n",
      "11701/13784 tested, right: 11033, acc 0.9429108623194599, ex 0\n",
      "11801/13784 tested, right: 11127, acc 0.9428861960850775, ex 0\n",
      "11901/13784 tested, right: 11222, acc 0.9429459709268129, ex 0\n",
      "12001/13784 tested, right: 11314, acc 0.942754770435797, ex 0\n",
      "12101/13784 tested, right: 11408, acc 0.9427320056193703, ex 0\n",
      "12201/13784 tested, right: 11505, acc 0.9429554954511925, ex 0\n",
      "12301/13784 tested, right: 11598, acc 0.942850174782538, ex 0\n",
      "12401/13784 tested, right: 11693, acc 0.9429078300137086, ex 0\n",
      "12501/13784 tested, right: 11788, acc 0.9429645628349732, ex 0\n",
      "12601/13784 tested, right: 11885, acc 0.9431791127688278, ex 0\n",
      "12701/13784 tested, right: 11981, acc 0.9433115502716322, ex 0\n",
      "12801/13784 tested, right: 12074, acc 0.9432075619092258, ex 0\n",
      "12901/13784 tested, right: 12166, acc 0.9430276722734672, ex 0\n",
      "13001/13784 tested, right: 12263, acc 0.9432351357587878, ex 0\n",
      "13101/13784 tested, right: 12356, acc 0.943134111899855, ex 0\n",
      "13201/13784 tested, right: 12450, acc 0.9431103704264828, ex 0\n",
      "13301/13784 tested, right: 12545, acc 0.9431621682580257, ex 0\n",
      "13401/13784 tested, right: 12640, acc 0.9432131930452952, ex 0\n"
     ]
    },
    {
     "name": "stdout",
     "output_type": "stream",
     "text": [
      "13501/13784 tested, right: 12734, acc 0.9431893933782682, ex 0\n",
      "13601/13784 tested, right: 12832, acc 0.943460039702963, ex 0\n",
      "13701/13784 tested, right: 12920, acc 0.942996861542953, ex 0\n"
     ]
    }
   ],
   "source": [
    "right = 0\n",
    "exact = 0\n",
    "n =  len(use_en)\n",
    "for i in range(n):\n",
    "        \n",
    "    predicted_index = closest_index(use_en[i], use_en, forbiden_index=i)\n",
    "    \n",
    "    predicted_lab = labs[predicted_index]\n",
    "        \n",
    "    if predicted_lab == labs[i]:\n",
    "        right += 1\n",
    "            \n",
    "    if predicted_index == i:\n",
    "        exact += 1\n",
    "        \n",
    "    if  i%100 == 1:\n",
    "        print('{}/{} tested, right: {}, acc {}, ex {}'.format(i, n, right, right/i, exact))\n",
    "\n"
   ]
  },
  {
   "cell_type": "code",
   "execution_count": 39,
   "metadata": {},
   "outputs": [
    {
     "data": {
      "text/plain": [
       "0.9429773650609402"
      ]
     },
     "execution_count": 39,
     "metadata": {},
     "output_type": "execute_result"
    }
   ],
   "source": [
    "right/13784"
   ]
  },
  {
   "cell_type": "code",
   "execution_count": null,
   "metadata": {},
   "outputs": [],
   "source": []
  }
 ],
 "metadata": {
  "kernelspec": {
   "display_name": "Python 3",
   "language": "python",
   "name": "python3"
  },
  "language_info": {
   "codemirror_mode": {
    "name": "ipython",
    "version": 3
   },
   "file_extension": ".py",
   "mimetype": "text/x-python",
   "name": "python",
   "nbconvert_exporter": "python",
   "pygments_lexer": "ipython3",
   "version": "3.7.1"
  }
 },
 "nbformat": 4,
 "nbformat_minor": 2
}
