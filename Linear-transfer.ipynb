{
 "cells": [
  {
   "cell_type": "code",
   "execution_count": 10,
   "metadata": {},
   "outputs": [],
   "source": [
    "import json\n",
    "import csv\n",
    "import random\n",
    "import time\n",
    "import torch\n",
    "import torch.nn as nn\n",
    "import numpy as np"
   ]
  },
  {
   "cell_type": "code",
   "execution_count": 101,
   "metadata": {},
   "outputs": [],
   "source": [
    "\n",
    "fasttext_sv = np.load('data/snips_processed/FastText-sv.npy')\n",
    "fasttext_en = np.load('data/snips_processed/FastText-en.npy')\n",
    "fasttext_uw_sv = np.load('data/snips_processed/FastText-uw-sv.npy')\n",
    "fasttext_uw_en = np.load('data/snips_processed/FastText-uw-en.npy')\n",
    "\n",
    "elmo_sv = np.load('data/snips_processed/ELMO-sv.npy')\n",
    "elmo_en = np.load('data/snips_processed/ELMO-en.npy')\n",
    "use_en = np.load('data/snips_processed/USE-en.npy')\n",
    "\n",
    "labs = np.load('data/snips_processed/labs.npy')\n",
    "\n",
    "fasttext_sv = np.squeeze(fasttext_sv, axis=1)\n",
    "fasttext_en = np.squeeze(fasttext_en, axis=1)\n",
    "fasttext_uw_sv = np.squeeze(fasttext_uw_sv, axis=1)\n",
    "fasttext_uw_en = np.squeeze(fasttext_uw_en, axis=1)\n",
    "elmo_sv = np.squeeze(elmo_sv, axis=1)\n",
    "elmo_en = np.squeeze(elmo_en, axis=1)\n",
    "use_en = np.squeeze(use_en, axis=1)\n",
    "\n",
    "\n",
    "#appendd bias\n",
    "fasttext_sv = np.hstack([fasttext_sv, np.array([np.ones(len(fasttext_sv))]).T])\n",
    "fasttext_uw_sv = np.hstack([fasttext_uw_sv, np.array([np.ones(len(fasttext_uw_sv))]).T])\n",
    "elmo_sv = np.hstack([elmo_sv, np.array([np.ones(len(elmo_sv))]).T])\n"
   ]
  },
  {
   "cell_type": "code",
   "execution_count": 90,
   "metadata": {},
   "outputs": [],
   "source": [
    "def closest_index(request, dots, forbiden_index=-1):\n",
    "    dists = np.linalg.norm(dots-request, axis=1)\n",
    "    res =  np.argmin(dists)\n",
    "    \n",
    "    if res == forbiden_index:\n",
    "        dists[res] = np.inf\n",
    "        return np.argmin(dists)\n",
    "    return res\n",
    "\n",
    "def test_transformation(x, test_in, test_out, test_labels, verbose = False, notransform=False):\n",
    "    right = 0\n",
    "    n =  len(test_in)\n",
    "    for i in range(n):\n",
    "        vec_in = test_in[i]\n",
    "        true_lab = test_labels[i]\n",
    "        \n",
    "        vec_out =  vec_in if notransform else vec_in@x\n",
    "        predicted_index = closest_index(vec_out, test_out, forbiden_index=i)\n",
    "        predicted_lab = test_labels[predicted_index]\n",
    "        \n",
    "        if predicted_lab == true_lab:\n",
    "            right += 1\n",
    "            \n",
    "        if verbose and i%100 == 0:\n",
    "            print('{}/{} tested, right: {}, acc {}'.format(i, n, right, right/n))\n",
    "\n",
    "    return right/n\n",
    "        \n",
    "        \n",
    "    \n",
    "def test_transform_pair(vecs_in, vecs_out, labels, start_test_i=0,end_test_i=5000, notransform=False):\n",
    "    \n",
    "    train_in = np.vstack((vecs_in[:start_test_i], vecs_in[end_test_i :]))\n",
    "    train_out = np.vstack((vecs_out[:start_test_i], vecs_out[end_test_i :]))\n",
    "    \n",
    "    test_in = vecs_in[start_test_i: end_test_i]\n",
    "    test_out = vecs_out[start_test_i: end_test_i]\n",
    "    test_labels = labels[start_test_i: end_test_i]\n",
    "    \n",
    "    x, res, rank, sing = np.linalg.lstsq(train_in, train_out)\n",
    "    \n",
    "    return test_transformation(x, test_in, test_out, test_labels, notransform=notransform)\n",
    "        "
   ]
  },
  {
   "cell_type": "code",
   "execution_count": 91,
   "metadata": {
    "scrolled": true
   },
   "outputs": [],
   "source": [
    "def cv(vecs_in, vecs_out, labs, folds = 5, notransform=False):\n",
    "    \n",
    "    delims = np.arange(0, len(vecs_in), len(vecs_in)//folds)\n",
    "    results = []\n",
    "    t = time.time()\n",
    "    for i in range(folds):\n",
    "        acc = test_transform_pair(vecs_in, vecs_out,labs,  start_test_i=delims[i],end_test_i=delims[i+1], notransform=notransform)\n",
    "        \n",
    "        results.append(acc)\n",
    "        print('#{:3d}, {:5d} sec. acc = {:.3f}'.format(i+1, int(time.time() - t), results[-1]))\n",
    "\n",
    "    return(sum(results)/len(results))   \n",
    "    "
   ]
  },
  {
   "cell_type": "code",
   "execution_count": 71,
   "metadata": {},
   "outputs": [
    {
     "name": "stderr",
     "output_type": "stream",
     "text": [
      "/Users/clarity/Code/virtualenvs/main/lib/python3.7/site-packages/ipykernel_launcher.py:40: FutureWarning: `rcond` parameter will change to the default of machine precision times ``max(M, N)`` where M and N are the input matrix dimensions.\n",
      "To use the future default and silence this warning we advise to pass `rcond=None`, to keep using the old, explicitly pass `rcond=-1`.\n"
     ]
    },
    {
     "name": "stdout",
     "output_type": "stream",
     "text": [
      "#  0,    52 sec. acc = 0.901\n",
      "#  1,   104 sec. acc = 0.897\n",
      "#  2,   158 sec. acc = 0.897\n",
      "#  3,   208 sec. acc = 0.872\n",
      "#  4,   260 sec. acc = 0.892\n"
     ]
    },
    {
     "data": {
      "text/plain": [
       "0.891944847605225"
      ]
     },
     "execution_count": 71,
     "metadata": {},
     "output_type": "execute_result"
    }
   ],
   "source": [
    "cv(elmo_sv, elmo_en, labs)"
   ]
  },
  {
   "cell_type": "code",
   "execution_count": 81,
   "metadata": {},
   "outputs": [
    {
     "name": "stderr",
     "output_type": "stream",
     "text": [
      "/Users/clarity/Code/virtualenvs/main/lib/python3.7/site-packages/ipykernel_launcher.py:40: FutureWarning: `rcond` parameter will change to the default of machine precision times ``max(M, N)`` where M and N are the input matrix dimensions.\n",
      "To use the future default and silence this warning we advise to pass `rcond=None`, to keep using the old, explicitly pass `rcond=-1`.\n"
     ]
    },
    {
     "name": "stdout",
     "output_type": "stream",
     "text": [
      "#  1,    86 sec. acc = 0.882\n",
      "#  2,   158 sec. acc = 0.873\n",
      "#  3,   217 sec. acc = 0.874\n",
      "#  4,   264 sec. acc = 0.835\n",
      "#  5,   310 sec. acc = 0.849\n"
     ]
    },
    {
     "data": {
      "text/plain": [
       "0.8626269956458635"
      ]
     },
     "execution_count": 81,
     "metadata": {},
     "output_type": "execute_result"
    }
   ],
   "source": [
    "cv(fasttext_sv, elmo_en, labs)"
   ]
  },
  {
   "cell_type": "code",
   "execution_count": 73,
   "metadata": {},
   "outputs": [
    {
     "name": "stderr",
     "output_type": "stream",
     "text": [
      "/Users/clarity/Code/virtualenvs/main/lib/python3.7/site-packages/ipykernel_launcher.py:40: FutureWarning: `rcond` parameter will change to the default of machine precision times ``max(M, N)`` where M and N are the input matrix dimensions.\n",
      "To use the future default and silence this warning we advise to pass `rcond=None`, to keep using the old, explicitly pass `rcond=-1`.\n"
     ]
    },
    {
     "name": "stdout",
     "output_type": "stream",
     "text": [
      "#  0,    24 sec. acc = 0.910\n",
      "#  1,    48 sec. acc = 0.923\n",
      "#  2,    72 sec. acc = 0.919\n",
      "#  3,    93 sec. acc = 0.904\n",
      "#  4,   115 sec. acc = 0.923\n"
     ]
    },
    {
     "data": {
      "text/plain": [
       "0.9158925979680695"
      ]
     },
     "execution_count": 73,
     "metadata": {},
     "output_type": "execute_result"
    }
   ],
   "source": [
    "cv(elmo_sv, use_en, labs)"
   ]
  },
  {
   "cell_type": "code",
   "execution_count": 82,
   "metadata": {},
   "outputs": [
    {
     "name": "stderr",
     "output_type": "stream",
     "text": [
      "/Users/clarity/Code/virtualenvs/main/lib/python3.7/site-packages/ipykernel_launcher.py:40: FutureWarning: `rcond` parameter will change to the default of machine precision times ``max(M, N)`` where M and N are the input matrix dimensions.\n",
      "To use the future default and silence this warning we advise to pass `rcond=None`, to keep using the old, explicitly pass `rcond=-1`.\n"
     ]
    },
    {
     "name": "stdout",
     "output_type": "stream",
     "text": [
      "#  1,    22 sec. acc = 0.890\n",
      "#  2,    42 sec. acc = 0.907\n",
      "#  3,    60 sec. acc = 0.906\n",
      "#  4,    79 sec. acc = 0.880\n",
      "#  5,    98 sec. acc = 0.899\n"
     ]
    },
    {
     "data": {
      "text/plain": [
       "0.896589259796807"
      ]
     },
     "execution_count": 82,
     "metadata": {},
     "output_type": "execute_result"
    }
   ],
   "source": [
    "cv(fasttext_sv, use_en, labs)"
   ]
  },
  {
   "cell_type": "code",
   "execution_count": 85,
   "metadata": {},
   "outputs": [
    {
     "name": "stderr",
     "output_type": "stream",
     "text": [
      "/Users/clarity/Code/virtualenvs/main/lib/python3.7/site-packages/ipykernel_launcher.py:40: FutureWarning: `rcond` parameter will change to the default of machine precision times ``max(M, N)`` where M and N are the input matrix dimensions.\n",
      "To use the future default and silence this warning we advise to pass `rcond=None`, to keep using the old, explicitly pass `rcond=-1`.\n"
     ]
    },
    {
     "name": "stdout",
     "output_type": "stream",
     "text": [
      "#  1,    46 sec. acc = 0.903\n",
      "#  2,    96 sec. acc = 0.898\n",
      "#  3,   145 sec. acc = 0.890\n",
      "#  4,   188 sec. acc = 0.861\n",
      "#  5,   261 sec. acc = 0.892\n"
     ]
    },
    {
     "data": {
      "text/plain": [
       "0.8888243831640057"
      ]
     },
     "execution_count": 85,
     "metadata": {},
     "output_type": "execute_result"
    }
   ],
   "source": [
    "cv(fasttext_uw_sv, elmo_en, labs)"
   ]
  },
  {
   "cell_type": "code",
   "execution_count": 84,
   "metadata": {},
   "outputs": [
    {
     "name": "stderr",
     "output_type": "stream",
     "text": [
      "/Users/clarity/Code/virtualenvs/main/lib/python3.7/site-packages/ipykernel_launcher.py:40: FutureWarning: `rcond` parameter will change to the default of machine precision times ``max(M, N)`` where M and N are the input matrix dimensions.\n",
      "To use the future default and silence this warning we advise to pass `rcond=None`, to keep using the old, explicitly pass `rcond=-1`.\n"
     ]
    },
    {
     "name": "stdout",
     "output_type": "stream",
     "text": [
      "#  1,    22 sec. acc = 0.910\n",
      "#  2,    40 sec. acc = 0.926\n",
      "#  3,    60 sec. acc = 0.918\n",
      "#  4,    81 sec. acc = 0.890\n",
      "#  5,   107 sec. acc = 0.918\n"
     ]
    },
    {
     "data": {
      "text/plain": [
       "0.9123367198838895"
      ]
     },
     "execution_count": 84,
     "metadata": {},
     "output_type": "execute_result"
    }
   ],
   "source": [
    "cv(fasttext_uw_sv, use_en, labs)"
   ]
  },
  {
   "cell_type": "code",
   "execution_count": 103,
   "metadata": {},
   "outputs": [
    {
     "name": "stderr",
     "output_type": "stream",
     "text": [
      "/Users/clarity/Code/virtualenvs/main/lib/python3.7/site-packages/ipykernel_launcher.py:40: FutureWarning: `rcond` parameter will change to the default of machine precision times ``max(M, N)`` where M and N are the input matrix dimensions.\n",
      "To use the future default and silence this warning we advise to pass `rcond=None`, to keep using the old, explicitly pass `rcond=-1`.\n"
     ]
    },
    {
     "name": "stdout",
     "output_type": "stream",
     "text": [
      "#  1,     6 sec. acc = 0.861\n",
      "#  2,    15 sec. acc = 0.870\n",
      "#  3,    24 sec. acc = 0.849\n",
      "#  4,    31 sec. acc = 0.848\n",
      "#  5,    39 sec. acc = 0.849\n",
      "0.8555152394775035\n",
      "#  1,    14 sec. acc = 0.814\n",
      "#  2,    32 sec. acc = 0.817\n",
      "#  3,    47 sec. acc = 0.817\n",
      "#  4,    62 sec. acc = 0.806\n",
      "#  5,    78 sec. acc = 0.798\n",
      "0.8103047895500726\n",
      "#  1,    16 sec. acc = 0.903\n",
      "#  2,    32 sec. acc = 0.901\n",
      "#  3,    47 sec. acc = 0.902\n",
      "#  4,    61 sec. acc = 0.901\n",
      "#  5,    75 sec. acc = 0.889\n",
      "0.8992017416545718\n",
      "#  1,    54 sec. acc = 0.895\n",
      "#  2,   108 sec. acc = 0.904\n",
      "#  3,   154 sec. acc = 0.904\n",
      "#  4,   201 sec. acc = 0.892\n",
      "#  5,   250 sec. acc = 0.901\n",
      "0.8991291727140783\n",
      "#  1,    25 sec. acc = 0.922\n",
      "#  2,    51 sec. acc = 0.915\n",
      "#  3,    76 sec. acc = 0.911\n",
      "#  4,   102 sec. acc = 0.913\n",
      "#  5,   130 sec. acc = 0.909\n",
      "0.9140058055152395\n"
     ]
    }
   ],
   "source": [
    "#notransform (single emb test)\n",
    "\n",
    "#cv(fasttext_uw_en, fasttext_uw_en,labs, notransform=True)\n",
    "print(cv(fasttext_en, fasttext_en,labs, notransform=True))\n",
    "print(cv(fasttext_sv, fasttext_sv,labs, notransform=True))\n",
    "print(cv(fasttext_uw_sv, fasttext_uw_sv,labs, notransform=True))\n",
    "print(cv(elmo_sv, elmo_sv,labs, notransform=True))\n",
    "print(cv(elmo_en, elmo_en,labs, notransform=True))"
   ]
  },
  {
   "cell_type": "code",
   "execution_count": 137,
   "metadata": {},
   "outputs": [
    {
     "name": "stdout",
     "output_type": "stream",
     "text": [
      "Transform matrix for w2v (301, 512), \n",
      "Transform m for elmo (1025, 512)\n",
      "train error of regression for w2w 54.7, elmo 40.7, \n",
      "test error w2v 3.59e+10 elmo 57.0\n"
     ]
    }
   ],
   "source": [
    "print('Transform matrix for w2v {}, \\nTransform m for elmo {}'.format(x.shape, x_e.shape))\n",
    "print('train error of regression for w2w {:.3}, elmo {:.3}, \\ntest error w2v {:.3} elmo {:.3}'.format(\n",
    "    np.linalg.norm(en_train -(sv_train@x)),\\\n",
    "    np.linalg.norm(en_train -(sv_train_e@x_e)), \\\n",
    "    np.linalg.norm(en_val -(sv_val@x)),\\\n",
    "    np.linalg.norm(en_val -(sv_val_e@x_e)))) \n"
   ]
  },
  {
   "cell_type": "code",
   "execution_count": 17,
   "metadata": {},
   "outputs": [
    {
     "name": "stdout",
     "output_type": "stream",
     "text": [
      "USE vectors on USE model testset: 0.153\n"
     ]
    },
    {
     "ename": "NameError",
     "evalue": "name 'x' is not defined",
     "output_type": "error",
     "traceback": [
      "\u001b[0;31m---------------------------------------------------------------------------\u001b[0m",
      "\u001b[0;31mNameError\u001b[0m                                 Traceback (most recent call last)",
      "\u001b[0;32m<ipython-input-17-129f0ad85b99>\u001b[0m in \u001b[0;36m<module>\u001b[0;34m\u001b[0m\n\u001b[1;32m     17\u001b[0m \u001b[0;34m\u001b[0m\u001b[0m\n\u001b[1;32m     18\u001b[0m \u001b[0mprint\u001b[0m\u001b[0;34m(\u001b[0m\u001b[0;34m'USE vectors on USE model testset: {:.3}'\u001b[0m\u001b[0;34m.\u001b[0m\u001b[0mformat\u001b[0m\u001b[0;34m(\u001b[0m\u001b[0meval\u001b[0m\u001b[0;34m(\u001b[0m\u001b[0mnet\u001b[0m\u001b[0;34m,\u001b[0m \u001b[0men_test\u001b[0m\u001b[0;34m,\u001b[0m \u001b[0mlabs_test\u001b[0m\u001b[0;34m)\u001b[0m\u001b[0;34m)\u001b[0m\u001b[0;34m)\u001b[0m\u001b[0;34m\u001b[0m\u001b[0;34m\u001b[0m\u001b[0m\n\u001b[0;32m---> 19\u001b[0;31m print('Transformed w2v vecs from val and test {:.3}, {:.3}'.format(eval(net, sv_val@x, labs_val),\n\u001b[0m\u001b[1;32m     20\u001b[0m                                                              eval(net, sv_test@x, labs_test)))\n\u001b[1;32m     21\u001b[0m print('Transformed elmo vecs from val and test {:.3}, {:.3}'.format(eval(net, sv_val_e@x_e, labs_val),\n",
      "\u001b[0;31mNameError\u001b[0m: name 'x' is not defined"
     ]
    }
   ],
   "source": [
    "def eval(model, vectors, labels):\n",
    "    with torch.no_grad():\n",
    "        vectors = list(map(lambda x: np.array([x]) , vectors))\n",
    "        #labels = list(map(lambda x: np.array([x]) , labels))\n",
    "        vectors = torch.tensor(list(vectors)).float()\n",
    "        labels = torch.tensor(labels)\n",
    "            \n",
    "        model_out = model.forward(vectors)\n",
    "        right = 0\n",
    "        \n",
    "        for i  in range(len(model_out)):\n",
    "            k, v = model_out[i].topk(1)\n",
    "            predicted, true = v.item(), labels[i].item()\n",
    "            if predicted == true:\n",
    "                right +=1\n",
    "        return right/len(model_out)\n",
    "    \n",
    "print('USE vectors on USE model testset: {:.3}'.format(eval(net, en_test, labs_test)))\n",
    "print('Transformed w2v vecs from val and test {:.3}, {:.3}'.format(eval(net, sv_val@x, labs_val),\n",
    "                                                             eval(net, sv_test@x, labs_test)))\n",
    "print('Transformed elmo vecs from val and test {:.3}, {:.3}'.format(eval(net, sv_val_e@x_e, labs_val),\n",
    "                                                             eval(net, sv_test_e@x_e, labs_test)))\n"
   ]
  },
  {
   "cell_type": "code",
   "execution_count": 9,
   "metadata": {},
   "outputs": [
    {
     "ename": "NameError",
     "evalue": "name 'vecs_en' is not defined",
     "output_type": "error",
     "traceback": [
      "\u001b[0;31m---------------------------------------------------------------------------\u001b[0m",
      "\u001b[0;31mNameError\u001b[0m                                 Traceback (most recent call last)",
      "\u001b[0;32m<ipython-input-9-44146cdcadab>\u001b[0m in \u001b[0;36m<module>\u001b[0;34m\u001b[0m\n\u001b[0;32m----> 1\u001b[0;31m \u001b[0mvecs_en\u001b[0m\u001b[0;34m\u001b[0m\u001b[0;34m\u001b[0m\u001b[0m\n\u001b[0m",
      "\u001b[0;31mNameError\u001b[0m: name 'vecs_en' is not defined"
     ]
    }
   ],
   "source": [
    "vecs_en"
   ]
  },
  {
   "cell_type": "code",
   "execution_count": 76,
   "metadata": {},
   "outputs": [
    {
     "data": {
      "text/plain": [
       "512"
      ]
     },
     "execution_count": 76,
     "metadata": {},
     "output_type": "execute_result"
    }
   ],
   "source": [
    "len(use_en[1])\n"
   ]
  },
  {
   "cell_type": "code",
   "execution_count": null,
   "metadata": {},
   "outputs": [],
   "source": [
    "\n"
   ]
  },
  {
   "cell_type": "code",
   "execution_count": 14,
   "metadata": {},
   "outputs": [
    {
     "data": {
      "text/plain": [
       "((13784, 1, 300), (13784, 1))"
      ]
     },
     "execution_count": 14,
     "metadata": {},
     "output_type": "execute_result"
    }
   ],
   "source": [
    "#np.hstack(\n",
    "fasttext_sv.shape, np.array([np.ones(len(fasttext_sv))]).T.shape\n",
    "#)"
   ]
  },
  {
   "cell_type": "code",
   "execution_count": null,
   "metadata": {},
   "outputs": [],
   "source": []
  }
 ],
 "metadata": {
  "kernelspec": {
   "display_name": "Python 3",
   "language": "python",
   "name": "python3"
  },
  "language_info": {
   "codemirror_mode": {
    "name": "ipython",
    "version": 3
   },
   "file_extension": ".py",
   "mimetype": "text/x-python",
   "name": "python",
   "nbconvert_exporter": "python",
   "pygments_lexer": "ipython3",
   "version": "3.7.1"
  }
 },
 "nbformat": 4,
 "nbformat_minor": 2
}
