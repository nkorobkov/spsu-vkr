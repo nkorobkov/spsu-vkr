{
 "cells": [
  {
   "cell_type": "code",
   "execution_count": 10,
   "metadata": {},
   "outputs": [],
   "source": [
    "import json\n",
    "import csv\n",
    "import random\n",
    "import time\n",
    "import torch\n",
    "import torch.nn as nn\n",
    "import numpy as np"
   ]
  },
  {
   "cell_type": "code",
   "execution_count": 22,
   "metadata": {},
   "outputs": [],
   "source": [
    "\n",
    "fasttext_sv = np.load('data/snips_processed/FastText-sv.npy')\n",
    "elmo_sv = np.load('data/snips_processed/ELMO-sv.npy')\n",
    "elmo_en = np.load('data/snips_processed/ELMO-en.npy')\n",
    "use_en = np.load('data/snips_processed/USE-en.npy')\n",
    "\n",
    "labs = np.load('data/snips_processed/labs.npy')\n",
    "\n",
    "fasttext_sv = np.squeeze(fasttext_sv, axis=1)\n",
    "elmo_sv = np.squeeze(elmo_sv, axis=1)\n",
    "elmo_en = np.squeeze(elmo_en, axis=1)\n",
    "use_en = np.squeeze(use_en, axis=1)\n",
    "\n",
    "\n",
    "#appendd bias\n",
    "fasttext_sv = np.hstack([fasttext_sv, np.array([np.ones(len(fasttext_sv))]).T])\n",
    "elmo_sv = np.hstack([elmo_sv, np.array([np.ones(len(elmo_sv))]).T])\n"
   ]
  },
  {
   "cell_type": "code",
   "execution_count": 69,
   "metadata": {},
   "outputs": [],
   "source": [
    "def closest_index(request, dots, forbiden_index=-1):\n",
    "    dists = np.linalg.norm(dots-request, axis=1)\n",
    "    res =  np.argmin(dists)\n",
    "    \n",
    "    if res == forbiden_index:\n",
    "        dists[res] = np.inf\n",
    "        return np.argmin(dists)\n",
    "    return res\n",
    "\n",
    "def test_transformation(x, test_in, test_out, test_labels, verbose = False):\n",
    "    right = 0\n",
    "    n =  len(test_in)\n",
    "    for i in range(n):\n",
    "        vec_in = test_in[i]\n",
    "        true_lab = test_labels[i]\n",
    "        \n",
    "        vec_out = vec_in@x\n",
    "        predicted_index = closest_index(vec_out, test_out, forbiden_index=i)\n",
    "        predicted_lab = test_labels[predicted_index]\n",
    "        \n",
    "        if predicted_lab == true_lab:\n",
    "            right += 1\n",
    "            \n",
    "        if verbose and i%100 == 0:\n",
    "            print('{}/{} tested, right: {}, acc {}'.format(i, n, right, right/n))\n",
    "\n",
    "    return right/n\n",
    "        \n",
    "        \n",
    "    \n",
    "def test_transform_pair(vecs_in, vecs_out, labels, start_test_i=0,end_test_i=5000):\n",
    "    \n",
    "    train_in = np.vstack((vecs_in[:start_test_i], vecs_in[end_test_i :]))\n",
    "    train_out = np.vstack((vecs_out[:start_test_i], vecs_out[end_test_i :]))\n",
    "    \n",
    "    test_in = vecs_in[start_test_i: end_test_i]\n",
    "    test_out = vecs_out[start_test_i: end_test_i]\n",
    "    test_labels = labels[start_test_i: end_test_i]\n",
    "    \n",
    "    x, res, rank, sing = np.linalg.lstsq(train_in, train_out)\n",
    "    \n",
    "    return test_transformation(x, test_in, test_out, test_labels)\n",
    "        "
   ]
  },
  {
   "cell_type": "code",
   "execution_count": 70,
   "metadata": {
    "scrolled": true
   },
   "outputs": [],
   "source": [
    "def cv(vecs_in, vecs_out, labs, folds = 5):\n",
    "    \n",
    "    delims = np.arange(0, len(vecs_in), len(vecs_in)//folds)\n",
    "    results = []\n",
    "    t = time.time()\n",
    "    for i in range(folds):\n",
    "        acc = test_transform_pair(vecs_in, vecs_out,labs,  start_test_i=delims[i],end_test_i=delims[i+1])\n",
    "        \n",
    "        results.append(acc)\n",
    "        print('#{:3d}, {:5d} sec. acc = {:.3f}'.format(i+1, int(time.time() - t), results[-1]))\n",
    "\n",
    "    return(sum(results)/len(results))   \n",
    "    "
   ]
  },
  {
   "cell_type": "code",
   "execution_count": 71,
   "metadata": {},
   "outputs": [
    {
     "name": "stderr",
     "output_type": "stream",
     "text": [
      "/Users/clarity/Code/virtualenvs/main/lib/python3.7/site-packages/ipykernel_launcher.py:40: FutureWarning: `rcond` parameter will change to the default of machine precision times ``max(M, N)`` where M and N are the input matrix dimensions.\n",
      "To use the future default and silence this warning we advise to pass `rcond=None`, to keep using the old, explicitly pass `rcond=-1`.\n"
     ]
    },
    {
     "name": "stdout",
     "output_type": "stream",
     "text": [
      "#  0,    52 sec. acc = 0.901\n",
      "#  1,   104 sec. acc = 0.897\n",
      "#  2,   158 sec. acc = 0.897\n",
      "#  3,   208 sec. acc = 0.872\n",
      "#  4,   260 sec. acc = 0.892\n"
     ]
    },
    {
     "data": {
      "text/plain": [
       "0.891944847605225"
      ]
     },
     "execution_count": 71,
     "metadata": {},
     "output_type": "execute_result"
    }
   ],
   "source": [
    "cv(elmo_sv, elmo_en, labs)"
   ]
  },
  {
   "cell_type": "code",
   "execution_count": 72,
   "metadata": {},
   "outputs": [
    {
     "name": "stderr",
     "output_type": "stream",
     "text": [
      "/Users/clarity/Code/virtualenvs/main/lib/python3.7/site-packages/ipykernel_launcher.py:40: FutureWarning: `rcond` parameter will change to the default of machine precision times ``max(M, N)`` where M and N are the input matrix dimensions.\n",
      "To use the future default and silence this warning we advise to pass `rcond=None`, to keep using the old, explicitly pass `rcond=-1`.\n"
     ]
    },
    {
     "name": "stdout",
     "output_type": "stream",
     "text": [
      "#  0,    42 sec. acc = 0.583\n",
      "#  1,    84 sec. acc = 0.587\n",
      "#  2,   129 sec. acc = 0.557\n",
      "#  3,   173 sec. acc = 0.554\n",
      "#  4,   216 sec. acc = 0.555\n"
     ]
    },
    {
     "data": {
      "text/plain": [
       "0.5670537010159651"
      ]
     },
     "execution_count": 72,
     "metadata": {},
     "output_type": "execute_result"
    }
   ],
   "source": [
    "cv(fasttext_sv, elmo_en, labs)"
   ]
  },
  {
   "cell_type": "code",
   "execution_count": 73,
   "metadata": {},
   "outputs": [
    {
     "name": "stderr",
     "output_type": "stream",
     "text": [
      "/Users/clarity/Code/virtualenvs/main/lib/python3.7/site-packages/ipykernel_launcher.py:40: FutureWarning: `rcond` parameter will change to the default of machine precision times ``max(M, N)`` where M and N are the input matrix dimensions.\n",
      "To use the future default and silence this warning we advise to pass `rcond=None`, to keep using the old, explicitly pass `rcond=-1`.\n"
     ]
    },
    {
     "name": "stdout",
     "output_type": "stream",
     "text": [
      "#  0,    24 sec. acc = 0.910\n",
      "#  1,    48 sec. acc = 0.923\n",
      "#  2,    72 sec. acc = 0.919\n",
      "#  3,    93 sec. acc = 0.904\n",
      "#  4,   115 sec. acc = 0.923\n"
     ]
    },
    {
     "data": {
      "text/plain": [
       "0.9158925979680695"
      ]
     },
     "execution_count": 73,
     "metadata": {},
     "output_type": "execute_result"
    }
   ],
   "source": [
    "cv(elmo_sv, use_en, labs)"
   ]
  },
  {
   "cell_type": "code",
   "execution_count": 74,
   "metadata": {},
   "outputs": [
    {
     "name": "stderr",
     "output_type": "stream",
     "text": [
      "/Users/clarity/Code/virtualenvs/main/lib/python3.7/site-packages/ipykernel_launcher.py:40: FutureWarning: `rcond` parameter will change to the default of machine precision times ``max(M, N)`` where M and N are the input matrix dimensions.\n",
      "To use the future default and silence this warning we advise to pass `rcond=None`, to keep using the old, explicitly pass `rcond=-1`.\n"
     ]
    },
    {
     "name": "stdout",
     "output_type": "stream",
     "text": [
      "#  0,    20 sec. acc = 0.628\n",
      "#  1,    40 sec. acc = 0.617\n",
      "#  2,    60 sec. acc = 0.632\n",
      "#  3,    85 sec. acc = 0.606\n",
      "#  4,   105 sec. acc = 0.636\n"
     ]
    },
    {
     "data": {
      "text/plain": [
       "0.6238751814223512"
      ]
     },
     "execution_count": 74,
     "metadata": {},
     "output_type": "execute_result"
    }
   ],
   "source": [
    "cv(fasttext_sv, use_en, labs)"
   ]
  },
  {
   "cell_type": "code",
   "execution_count": 137,
   "metadata": {},
   "outputs": [
    {
     "name": "stdout",
     "output_type": "stream",
     "text": [
      "Transform matrix for w2v (301, 512), \n",
      "Transform m for elmo (1025, 512)\n",
      "train error of regression for w2w 54.7, elmo 40.7, \n",
      "test error w2v 3.59e+10 elmo 57.0\n"
     ]
    }
   ],
   "source": [
    "print('Transform matrix for w2v {}, \\nTransform m for elmo {}'.format(x.shape, x_e.shape))\n",
    "print('train error of regression for w2w {:.3}, elmo {:.3}, \\ntest error w2v {:.3} elmo {:.3}'.format(\n",
    "    np.linalg.norm(en_train -(sv_train@x)),\\\n",
    "    np.linalg.norm(en_train -(sv_train_e@x_e)), \\\n",
    "    np.linalg.norm(en_val -(sv_val@x)),\\\n",
    "    np.linalg.norm(en_val -(sv_val_e@x_e)))) \n"
   ]
  },
  {
   "cell_type": "code",
   "execution_count": 17,
   "metadata": {},
   "outputs": [
    {
     "name": "stdout",
     "output_type": "stream",
     "text": [
      "USE vectors on USE model testset: 0.153\n"
     ]
    },
    {
     "ename": "NameError",
     "evalue": "name 'x' is not defined",
     "output_type": "error",
     "traceback": [
      "\u001b[0;31m---------------------------------------------------------------------------\u001b[0m",
      "\u001b[0;31mNameError\u001b[0m                                 Traceback (most recent call last)",
      "\u001b[0;32m<ipython-input-17-129f0ad85b99>\u001b[0m in \u001b[0;36m<module>\u001b[0;34m\u001b[0m\n\u001b[1;32m     17\u001b[0m \u001b[0;34m\u001b[0m\u001b[0m\n\u001b[1;32m     18\u001b[0m \u001b[0mprint\u001b[0m\u001b[0;34m(\u001b[0m\u001b[0;34m'USE vectors on USE model testset: {:.3}'\u001b[0m\u001b[0;34m.\u001b[0m\u001b[0mformat\u001b[0m\u001b[0;34m(\u001b[0m\u001b[0meval\u001b[0m\u001b[0;34m(\u001b[0m\u001b[0mnet\u001b[0m\u001b[0;34m,\u001b[0m \u001b[0men_test\u001b[0m\u001b[0;34m,\u001b[0m \u001b[0mlabs_test\u001b[0m\u001b[0;34m)\u001b[0m\u001b[0;34m)\u001b[0m\u001b[0;34m)\u001b[0m\u001b[0;34m\u001b[0m\u001b[0;34m\u001b[0m\u001b[0m\n\u001b[0;32m---> 19\u001b[0;31m print('Transformed w2v vecs from val and test {:.3}, {:.3}'.format(eval(net, sv_val@x, labs_val),\n\u001b[0m\u001b[1;32m     20\u001b[0m                                                              eval(net, sv_test@x, labs_test)))\n\u001b[1;32m     21\u001b[0m print('Transformed elmo vecs from val and test {:.3}, {:.3}'.format(eval(net, sv_val_e@x_e, labs_val),\n",
      "\u001b[0;31mNameError\u001b[0m: name 'x' is not defined"
     ]
    }
   ],
   "source": [
    "def eval(model, vectors, labels):\n",
    "    with torch.no_grad():\n",
    "        vectors = list(map(lambda x: np.array([x]) , vectors))\n",
    "        #labels = list(map(lambda x: np.array([x]) , labels))\n",
    "        vectors = torch.tensor(list(vectors)).float()\n",
    "        labels = torch.tensor(labels)\n",
    "            \n",
    "        model_out = model.forward(vectors)\n",
    "        right = 0\n",
    "        \n",
    "        for i  in range(len(model_out)):\n",
    "            k, v = model_out[i].topk(1)\n",
    "            predicted, true = v.item(), labels[i].item()\n",
    "            if predicted == true:\n",
    "                right +=1\n",
    "        return right/len(model_out)\n",
    "    \n",
    "print('USE vectors on USE model testset: {:.3}'.format(eval(net, en_test, labs_test)))\n",
    "print('Transformed w2v vecs from val and test {:.3}, {:.3}'.format(eval(net, sv_val@x, labs_val),\n",
    "                                                             eval(net, sv_test@x, labs_test)))\n",
    "print('Transformed elmo vecs from val and test {:.3}, {:.3}'.format(eval(net, sv_val_e@x_e, labs_val),\n",
    "                                                             eval(net, sv_test_e@x_e, labs_test)))\n"
   ]
  },
  {
   "cell_type": "code",
   "execution_count": 9,
   "metadata": {},
   "outputs": [
    {
     "ename": "NameError",
     "evalue": "name 'vecs_en' is not defined",
     "output_type": "error",
     "traceback": [
      "\u001b[0;31m---------------------------------------------------------------------------\u001b[0m",
      "\u001b[0;31mNameError\u001b[0m                                 Traceback (most recent call last)",
      "\u001b[0;32m<ipython-input-9-44146cdcadab>\u001b[0m in \u001b[0;36m<module>\u001b[0;34m\u001b[0m\n\u001b[0;32m----> 1\u001b[0;31m \u001b[0mvecs_en\u001b[0m\u001b[0;34m\u001b[0m\u001b[0;34m\u001b[0m\u001b[0m\n\u001b[0m",
      "\u001b[0;31mNameError\u001b[0m: name 'vecs_en' is not defined"
     ]
    }
   ],
   "source": [
    "vecs_en"
   ]
  },
  {
   "cell_type": "code",
   "execution_count": 76,
   "metadata": {},
   "outputs": [
    {
     "data": {
      "text/plain": [
       "512"
      ]
     },
     "execution_count": 76,
     "metadata": {},
     "output_type": "execute_result"
    }
   ],
   "source": [
    "len(use_en[1])\n"
   ]
  },
  {
   "cell_type": "code",
   "execution_count": null,
   "metadata": {},
   "outputs": [],
   "source": [
    "\n"
   ]
  },
  {
   "cell_type": "code",
   "execution_count": 14,
   "metadata": {},
   "outputs": [
    {
     "data": {
      "text/plain": [
       "((13784, 1, 300), (13784, 1))"
      ]
     },
     "execution_count": 14,
     "metadata": {},
     "output_type": "execute_result"
    }
   ],
   "source": [
    "#np.hstack(\n",
    "fasttext_sv.shape, np.array([np.ones(len(fasttext_sv))]).T.shape\n",
    "#)"
   ]
  },
  {
   "cell_type": "code",
   "execution_count": null,
   "metadata": {},
   "outputs": [],
   "source": []
  }
 ],
 "metadata": {
  "kernelspec": {
   "display_name": "Python 3",
   "language": "python",
   "name": "python3"
  },
  "language_info": {
   "codemirror_mode": {
    "name": "ipython",
    "version": 3
   },
   "file_extension": ".py",
   "mimetype": "text/x-python",
   "name": "python",
   "nbconvert_exporter": "python",
   "pygments_lexer": "ipython3",
   "version": "3.7.1"
  }
 },
 "nbformat": 4,
 "nbformat_minor": 2
}
